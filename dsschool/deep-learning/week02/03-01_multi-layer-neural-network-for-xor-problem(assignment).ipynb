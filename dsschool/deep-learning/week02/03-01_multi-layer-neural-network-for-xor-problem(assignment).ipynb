{
 "cells": [
  {
   "cell_type": "code",
   "execution_count": 1,
   "metadata": {},
   "outputs": [],
   "source": [
    "%matplotlib inline\n",
    "import numpy as np\n",
    "import pandas as pd\n",
    "import matplotlib.pyplot as plt"
   ]
  },
  {
   "cell_type": "markdown",
   "metadata": {},
   "source": [
    "## Generate Dataset"
   ]
  },
  {
   "cell_type": "code",
   "execution_count": 2,
   "metadata": {},
   "outputs": [
    {
     "name": "stdout",
     "output_type": "stream",
     "text": [
      "(4, 3)\n"
     ]
    },
    {
     "data": {
      "text/html": [
       "<div>\n",
       "<style scoped>\n",
       "    .dataframe tbody tr th:only-of-type {\n",
       "        vertical-align: middle;\n",
       "    }\n",
       "\n",
       "    .dataframe tbody tr th {\n",
       "        vertical-align: top;\n",
       "    }\n",
       "\n",
       "    .dataframe thead th {\n",
       "        text-align: right;\n",
       "    }\n",
       "</style>\n",
       "<table border=\"1\" class=\"dataframe\">\n",
       "  <thead>\n",
       "    <tr style=\"text-align: right;\">\n",
       "      <th></th>\n",
       "      <th>x1</th>\n",
       "      <th>x2</th>\n",
       "      <th>y</th>\n",
       "    </tr>\n",
       "  </thead>\n",
       "  <tbody>\n",
       "    <tr>\n",
       "      <th>0</th>\n",
       "      <td>0</td>\n",
       "      <td>0</td>\n",
       "      <td>0</td>\n",
       "    </tr>\n",
       "    <tr>\n",
       "      <th>1</th>\n",
       "      <td>1</td>\n",
       "      <td>0</td>\n",
       "      <td>0</td>\n",
       "    </tr>\n",
       "    <tr>\n",
       "      <th>2</th>\n",
       "      <td>0</td>\n",
       "      <td>1</td>\n",
       "      <td>0</td>\n",
       "    </tr>\n",
       "    <tr>\n",
       "      <th>3</th>\n",
       "      <td>1</td>\n",
       "      <td>1</td>\n",
       "      <td>1</td>\n",
       "    </tr>\n",
       "  </tbody>\n",
       "</table>\n",
       "</div>"
      ],
      "text/plain": [
       "   x1  x2  y\n",
       "0   0   0  0\n",
       "1   1   0  0\n",
       "2   0   1  0\n",
       "3   1   1  1"
      ]
     },
     "execution_count": 2,
     "metadata": {},
     "output_type": "execute_result"
    },
    {
     "data": {
      "image/png": "[encoded data removed]",
      "text/plain": [
       "<Figure size 432x288 with 1 Axes>"
      ]
     },
     "metadata": {
      "needs_background": "light"
     },
     "output_type": "display_data"
    }
   ],
   "source": [
    "and_data = [\n",
    "    {'x1': 0, 'x2': 0, 'y' : 0},\n",
    "    {'x1': 1, 'x2': 0, 'y' : 0},\n",
    "    {'x1': 0, 'x2': 1, 'y' : 0},\n",
    "    {'x1': 1, 'x2': 1, 'y' : 1},\n",
    "]\n",
    "\n",
    "and_data = pd.DataFrame.from_dict(and_data)\n",
    "\n",
    "plt.scatter(and_data['x1'], and_data['x2'], c=and_data['y'])\n",
    "\n",
    "print(and_data.shape)\n",
    "and_data.head()"
   ]
  },
  {
   "cell_type": "code",
   "execution_count": 3,
   "metadata": {},
   "outputs": [
    {
     "name": "stdout",
     "output_type": "stream",
     "text": [
      "(4, 3)\n"
     ]
    },
    {
     "data": {
      "text/html": [
       "<div>\n",
       "<style scoped>\n",
       "    .dataframe tbody tr th:only-of-type {\n",
       "        vertical-align: middle;\n",
       "    }\n",
       "\n",
       "    .dataframe tbody tr th {\n",
       "        vertical-align: top;\n",
       "    }\n",
       "\n",
       "    .dataframe thead th {\n",
       "        text-align: right;\n",
       "    }\n",
       "</style>\n",
       "<table border=\"1\" class=\"dataframe\">\n",
       "  <thead>\n",
       "    <tr style=\"text-align: right;\">\n",
       "      <th></th>\n",
       "      <th>x1</th>\n",
       "      <th>x2</th>\n",
       "      <th>y</th>\n",
       "    </tr>\n",
       "  </thead>\n",
       "  <tbody>\n",
       "    <tr>\n",
       "      <th>0</th>\n",
       "      <td>0</td>\n",
       "      <td>0</td>\n",
       "      <td>0</td>\n",
       "    </tr>\n",
       "    <tr>\n",
       "      <th>1</th>\n",
       "      <td>1</td>\n",
       "      <td>0</td>\n",
       "      <td>1</td>\n",
       "    </tr>\n",
       "    <tr>\n",
       "      <th>2</th>\n",
       "      <td>0</td>\n",
       "      <td>1</td>\n",
       "      <td>1</td>\n",
       "    </tr>\n",
       "    <tr>\n",
       "      <th>3</th>\n",
       "      <td>1</td>\n",
       "      <td>1</td>\n",
       "      <td>1</td>\n",
       "    </tr>\n",
       "  </tbody>\n",
       "</table>\n",
       "</div>"
      ],
      "text/plain": [
       "   x1  x2  y\n",
       "0   0   0  0\n",
       "1   1   0  1\n",
       "2   0   1  1\n",
       "3   1   1  1"
      ]
     },
     "execution_count": 3,
     "metadata": {},
     "output_type": "execute_result"
    },
    {
     "data": {
      "image/png": "[encoded data removed]",
      "text/plain": [
       "<Figure size 432x288 with 1 Axes>"
      ]
     },
     "metadata": {
      "needs_background": "light"
     },
     "output_type": "display_data"
    }
   ],
   "source": [
    "or_data = [\n",
    "    {'x1': 0, 'x2': 0, 'y' : 0},\n",
    "    {'x1': 1, 'x2': 0, 'y' : 1},\n",
    "    {'x1': 0, 'x2': 1, 'y' : 1},\n",
    "    {'x1': 1, 'x2': 1, 'y' : 1},\n",
    "]\n",
    "\n",
    "or_data = pd.DataFrame.from_dict(or_data)\n",
    "\n",
    "plt.scatter(or_data['x1'], or_data['x2'], c=or_data['y'])\n",
    "\n",
    "print(or_data.shape)\n",
    "or_data.head()"
   ]
  },
  {
   "cell_type": "code",
   "execution_count": 4,
   "metadata": {},
   "outputs": [
    {
     "name": "stdout",
     "output_type": "stream",
     "text": [
      "(4, 3)\n"
     ]
    },
    {
     "data": {
      "text/html": [
       "<div>\n",
       "<style scoped>\n",
       "    .dataframe tbody tr th:only-of-type {\n",
       "        vertical-align: middle;\n",
       "    }\n",
       "\n",
       "    .dataframe tbody tr th {\n",
       "        vertical-align: top;\n",
       "    }\n",
       "\n",
       "    .dataframe thead th {\n",
       "        text-align: right;\n",
       "    }\n",
       "</style>\n",
       "<table border=\"1\" class=\"dataframe\">\n",
       "  <thead>\n",
       "    <tr style=\"text-align: right;\">\n",
       "      <th></th>\n",
       "      <th>x1</th>\n",
       "      <th>x2</th>\n",
       "      <th>y</th>\n",
       "    </tr>\n",
       "  </thead>\n",
       "  <tbody>\n",
       "    <tr>\n",
       "      <th>0</th>\n",
       "      <td>0</td>\n",
       "      <td>0</td>\n",
       "      <td>0</td>\n",
       "    </tr>\n",
       "    <tr>\n",
       "      <th>1</th>\n",
       "      <td>1</td>\n",
       "      <td>0</td>\n",
       "      <td>1</td>\n",
       "    </tr>\n",
       "    <tr>\n",
       "      <th>2</th>\n",
       "      <td>0</td>\n",
       "      <td>1</td>\n",
       "      <td>1</td>\n",
       "    </tr>\n",
       "    <tr>\n",
       "      <th>3</th>\n",
       "      <td>1</td>\n",
       "      <td>1</td>\n",
       "      <td>0</td>\n",
       "    </tr>\n",
       "  </tbody>\n",
       "</table>\n",
       "</div>"
      ],
      "text/plain": [
       "   x1  x2  y\n",
       "0   0   0  0\n",
       "1   1   0  1\n",
       "2   0   1  1\n",
       "3   1   1  0"
      ]
     },
     "execution_count": 4,
     "metadata": {},
     "output_type": "execute_result"
    },
    {
     "data": {
      "image/png": "[encoded data removed]",
      "text/plain": [
       "<Figure size 432x288 with 1 Axes>"
      ]
     },
     "metadata": {
      "needs_background": "light"
     },
     "output_type": "display_data"
    }
   ],
   "source": [
    "xor_data = [\n",
    "    {'x1': 0, 'x2': 0, 'y' : 0},\n",
    "    {'x1': 1, 'x2': 0, 'y' : 1},\n",
    "    {'x1': 0, 'x2': 1, 'y' : 1},\n",
    "    {'x1': 1, 'x2': 1, 'y' : 0},\n",
    "]\n",
    "\n",
    "xor_data = pd.DataFrame.from_dict(xor_data)\n",
    "\n",
    "plt.scatter(xor_data['x1'], xor_data['x2'], c=xor_data['y'])\n",
    "\n",
    "print(xor_data.shape)\n",
    "xor_data.head()"
   ]
  },
  {
   "cell_type": "markdown",
   "metadata": {},
   "source": [
    "### Define Sigmoid"
   ]
  },
  {
   "cell_type": "code",
   "execution_count": 5,
   "metadata": {},
   "outputs": [],
   "source": [
    "def sigmoid(n):\n",
    "    return 1 / (1 + np.exp(-n))"
   ]
  },
  {
   "cell_type": "code",
   "execution_count": 6,
   "metadata": {},
   "outputs": [
    {
     "data": {
      "text/plain": [
       "[<matplotlib.lines.Line2D at 0x11dd5a160>]"
      ]
     },
     "execution_count": 6,
     "metadata": {},
     "output_type": "execute_result"
    },
    {
     "data": {
      "image/png": "[encoded data removed]",
      "text/plain": [
       "<Figure size 432x288 with 1 Axes>"
      ]
     },
     "metadata": {
      "needs_background": "light"
     },
     "output_type": "display_data"
    }
   ],
   "source": [
    "xx = np.linspace(-10, 10)\n",
    "yy = sigmoid(xx)\n",
    "\n",
    "plt.plot(xx, yy)"
   ]
  },
  {
   "cell_type": "markdown",
   "metadata": {},
   "source": [
    "### Single layer Neural Network"
   ]
  },
  {
   "cell_type": "code",
   "execution_count": 90,
   "metadata": {},
   "outputs": [],
   "source": [
    "def gradient_descent(X, y, num_epoch=100, learning_rate=1.0, print_num_epoch=1):\n",
    "    num_features = X.shape[1]\n",
    "\n",
    "    w = np.random.uniform(low=-1.0, high=1.0, size=num_features)\n",
    "    b = np.random.uniform(low=-1.0, high=1.0)\n",
    "\n",
    "    for epoch in range(num_epoch):\n",
    "        y_predict = X.dot(w) + b\n",
    "        y_predict = sigmoid(y_predict)\n",
    "\n",
    "        predict = y_predict >= 0.5\n",
    "        accuracy = (predict == y).mean()\n",
    "\n",
    "        if (epoch + 1) % print_num_epoch == 0:\n",
    "            print(\"{0:03} accuracy = {1:.5f}\".format((epoch + 1), accuracy))\n",
    "\n",
    "        if accuracy == 1.00:\n",
    "            break\n",
    "\n",
    "        w = w - learning_rate * (y_predict - y).dot(X)\n",
    "        b = b - learning_rate * (y_predict - y).mean()\n",
    "\n",
    "    return w, b, accuracy"
   ]
  },
  {
   "cell_type": "markdown",
   "metadata": {},
   "source": [
    "### And Data"
   ]
  },
  {
   "cell_type": "code",
   "execution_count": 91,
   "metadata": {},
   "outputs": [
    {
     "name": "stdout",
     "output_type": "stream",
     "text": [
      "001 accuracy = 0.75000\n",
      "002 accuracy = 0.75000\n",
      "003 accuracy = 0.75000\n",
      "004 accuracy = 1.00000\n",
      "----------------------------------------\n",
      "accuracy = 1.000000\n"
     ]
    }
   ],
   "source": [
    "# Write your code here!\n",
    "data = and_data.copy()\n",
    "\n",
    "X = data[[\"x1\", \"x2\"]].values\n",
    "y = data[\"y\"].values\n",
    "\n",
    "w, b, accuracy = gradient_descent(X, y)\n",
    "\n",
    "print (\"----\" * 10)\n",
    "print (\"accuracy = {:.6f}\".format(accuracy))"
   ]
  },
  {
   "cell_type": "markdown",
   "metadata": {},
   "source": [
    "### Visualize"
   ]
  },
  {
   "cell_type": "code",
   "execution_count": 92,
   "metadata": {},
   "outputs": [
    {
     "data": {
      "text/plain": [
       "[<matplotlib.lines.Line2D at 0x11ec2bb70>]"
      ]
     },
     "execution_count": 92,
     "metadata": {},
     "output_type": "execute_result"
    },
    {
     "data": {
      "image/png": "[encoded data removed]",
      "text/plain": [
       "<Figure size 432x288 with 1 Axes>"
      ]
     },
     "metadata": {
      "needs_background": "light"
     },
     "output_type": "display_data"
    }
   ],
   "source": [
    "w1, w2 = w\n",
    "\n",
    "xx = np.linspace(start=0.0, stop=1.0)\n",
    "\n",
    "# w1 * x1 + w2 * x2 + b = 0\n",
    "# w2 * x2 = - (w1 * x1 + b)\n",
    "# x2 = - (w1 * x1 + b) / w2\n",
    "yy = -1.0 * (w1 * xx + b) / w2\n",
    "\n",
    "plt.scatter(data[\"x1\"], data[\"x2\"], c=y)\n",
    "plt.plot(xx, yy, c = 'r')"
   ]
  },
  {
   "cell_type": "markdown",
   "metadata": {},
   "source": [
    "### Or Data"
   ]
  },
  {
   "cell_type": "code",
   "execution_count": 93,
   "metadata": {},
   "outputs": [
    {
     "name": "stdout",
     "output_type": "stream",
     "text": [
      "001 accuracy = 0.75000\n",
      "002 accuracy = 0.75000\n",
      "003 accuracy = 0.75000\n",
      "004 accuracy = 0.75000\n",
      "005 accuracy = 0.75000\n",
      "006 accuracy = 0.75000\n",
      "007 accuracy = 0.75000\n",
      "008 accuracy = 1.00000\n",
      "----------------------------------------\n",
      "accuracy = 1.000000\n"
     ]
    }
   ],
   "source": [
    "# Write your code here!\n",
    "data = or_data.copy()\n",
    "\n",
    "X = data[[\"x1\", \"x2\"]].values\n",
    "y = data[\"y\"].values\n",
    "\n",
    "w, b, accuracy = gradient_descent(X, y)\n",
    "\n",
    "print (\"----\" * 10)\n",
    "print (\"accuracy = {:.6f}\".format(accuracy))"
   ]
  },
  {
   "cell_type": "markdown",
   "metadata": {},
   "source": [
    "### Visualize"
   ]
  },
  {
   "cell_type": "code",
   "execution_count": 94,
   "metadata": {},
   "outputs": [
    {
     "data": {
      "text/plain": [
       "[<matplotlib.lines.Line2D at 0x11ecf6208>]"
      ]
     },
     "execution_count": 94,
     "metadata": {},
     "output_type": "execute_result"
    },
    {
     "data": {
      "image/png": "[encoded data removed]",
      "text/plain": [
       "<Figure size 432x288 with 1 Axes>"
      ]
     },
     "metadata": {
      "needs_background": "light"
     },
     "output_type": "display_data"
    }
   ],
   "source": [
    "w1, w2 = w\n",
    "\n",
    "xx = np.linspace(start=0.0, stop=1.0)\n",
    "yy = -1.0 * (w1 * xx + b) / w2\n",
    "\n",
    "plt.scatter(data[\"x1\"], data[\"x2\"], c=y)\n",
    "plt.plot(xx, yy, c = 'r')"
   ]
  },
  {
   "cell_type": "markdown",
   "metadata": {},
   "source": [
    "### XOR Data"
   ]
  },
  {
   "cell_type": "code",
   "execution_count": 95,
   "metadata": {},
   "outputs": [
    {
     "name": "stdout",
     "output_type": "stream",
     "text": [
      "010 accuracy = 0.50000\n",
      "020 accuracy = 0.75000\n",
      "030 accuracy = 0.75000\n",
      "040 accuracy = 0.75000\n",
      "050 accuracy = 0.75000\n",
      "060 accuracy = 0.75000\n",
      "070 accuracy = 0.75000\n",
      "080 accuracy = 0.75000\n",
      "090 accuracy = 0.75000\n",
      "100 accuracy = 0.75000\n",
      "----------------------------------------\n",
      "accuracy = 0.750000\n"
     ]
    }
   ],
   "source": [
    "# Write your code here!\n",
    "data = xor_data.copy()\n",
    "\n",
    "X = data[[\"x1\", \"x2\"]].values\n",
    "y = data[\"y\"].values\n",
    "\n",
    "w, b, accuracy = gradient_descent(X, y, print_num_epoch = 10)\n",
    "\n",
    "print (\"----\" * 10)\n",
    "print (\"accuracy = {:.6f}\".format(accuracy))"
   ]
  },
  {
   "cell_type": "markdown",
   "metadata": {},
   "source": [
    "### Visualize"
   ]
  },
  {
   "cell_type": "code",
   "execution_count": 96,
   "metadata": {},
   "outputs": [
    {
     "data": {
      "text/plain": [
       "[<matplotlib.lines.Line2D at 0x11eaaf710>]"
      ]
     },
     "execution_count": 96,
     "metadata": {},
     "output_type": "execute_result"
    },
    {
     "data": {
      "image/png": "[encoded data removed]",
      "text/plain": [
       "<Figure size 432x288 with 1 Axes>"
      ]
     },
     "metadata": {
      "needs_background": "light"
     },
     "output_type": "display_data"
    }
   ],
   "source": [
    "w1, w2 = w\n",
    "\n",
    "xx = np.linspace(start=0.0, stop=1.0)\n",
    "yy = -1.0 * (w1 * xx + b) / w2\n",
    "\n",
    "plt.scatter(data[\"x1\"], data[\"x2\"], c=y)\n",
    "plt.plot(xx, yy, c = 'r')"
   ]
  },
  {
   "cell_type": "markdown",
   "metadata": {},
   "source": [
    "### XOR data (transformed)"
   ]
  },
  {
   "cell_type": "code",
   "execution_count": 97,
   "metadata": {},
   "outputs": [
    {
     "data": {
      "text/html": [
       "<div>\n",
       "<style scoped>\n",
       "    .dataframe tbody tr th:only-of-type {\n",
       "        vertical-align: middle;\n",
       "    }\n",
       "\n",
       "    .dataframe tbody tr th {\n",
       "        vertical-align: top;\n",
       "    }\n",
       "\n",
       "    .dataframe thead th {\n",
       "        text-align: right;\n",
       "    }\n",
       "</style>\n",
       "<table border=\"1\" class=\"dataframe\">\n",
       "  <thead>\n",
       "    <tr style=\"text-align: right;\">\n",
       "      <th></th>\n",
       "      <th>x1</th>\n",
       "      <th>x2</th>\n",
       "      <th>y</th>\n",
       "    </tr>\n",
       "  </thead>\n",
       "  <tbody>\n",
       "    <tr>\n",
       "      <th>0</th>\n",
       "      <td>0</td>\n",
       "      <td>0</td>\n",
       "      <td>0</td>\n",
       "    </tr>\n",
       "    <tr>\n",
       "      <th>1</th>\n",
       "      <td>0</td>\n",
       "      <td>1</td>\n",
       "      <td>1</td>\n",
       "    </tr>\n",
       "    <tr>\n",
       "      <th>2</th>\n",
       "      <td>1</td>\n",
       "      <td>0</td>\n",
       "      <td>1</td>\n",
       "    </tr>\n",
       "    <tr>\n",
       "      <th>3</th>\n",
       "      <td>0</td>\n",
       "      <td>0</td>\n",
       "      <td>0</td>\n",
       "    </tr>\n",
       "  </tbody>\n",
       "</table>\n",
       "</div>"
      ],
      "text/plain": [
       "   x1  x2  y\n",
       "0   0   0  0\n",
       "1   0   1  1\n",
       "2   1   0  1\n",
       "3   0   0  0"
      ]
     },
     "execution_count": 97,
     "metadata": {},
     "output_type": "execute_result"
    }
   ],
   "source": [
    "# Write your code here!\n",
    "data = xor_data.copy()\n",
    "\n",
    "x1 = data[\"x1\"].values\n",
    "x2 = data[\"x2\"].values\n",
    "\n",
    "x1_flipped = (x1 == 0).astype('int')\n",
    "x2_flipped = (x2 == 0).astype('int')\n",
    "\n",
    "new_x1 = x1_flipped & x2\n",
    "new_x2 = x1 & x2_flipped\n",
    "\n",
    "new_xor_data = pd.DataFrame({'x1': new_x1, 'x2': new_x2, 'y': y})\n",
    "\n",
    "new_xor_data"
   ]
  },
  {
   "cell_type": "code",
   "execution_count": 98,
   "metadata": {},
   "outputs": [
    {
     "name": "stdout",
     "output_type": "stream",
     "text": [
      "----------------------------------------\n",
      "accuracy = 1.000000\n"
     ]
    }
   ],
   "source": [
    "data = new_xor_data.copy()\n",
    "\n",
    "X = data[[\"x1\", \"x2\"]].values\n",
    "y = data[\"y\"].values\n",
    "\n",
    "w, b, accuracy = gradient_descent(X, y, print_num_epoch = 10)\n",
    "\n",
    "print (\"----\" * 10)\n",
    "print (\"accuracy = {:.6f}\".format(accuracy))"
   ]
  },
  {
   "cell_type": "markdown",
   "metadata": {},
   "source": [
    "### Visualize"
   ]
  },
  {
   "cell_type": "code",
   "execution_count": 99,
   "metadata": {},
   "outputs": [
    {
     "data": {
      "text/plain": [
       "[<matplotlib.lines.Line2D at 0x11edbc3c8>]"
      ]
     },
     "execution_count": 99,
     "metadata": {},
     "output_type": "execute_result"
    },
    {
     "data": {
      "image/png": "[encoded data removed]",
      "text/plain": [
       "<Figure size 432x288 with 1 Axes>"
      ]
     },
     "metadata": {
      "needs_background": "light"
     },
     "output_type": "display_data"
    }
   ],
   "source": [
    "w1, w2 = w\n",
    "\n",
    "xx = np.linspace(start=0.0, stop=1.0)\n",
    "yy = -1.0 * (w1 * xx + b) / w2\n",
    "\n",
    "plt.scatter(data[\"x1\"], data[\"x2\"], c=y)\n",
    "plt.plot(xx, yy, c = 'r')"
   ]
  },
  {
   "cell_type": "markdown",
   "metadata": {},
   "source": [
    "### XOR data (Polynomial)"
   ]
  },
  {
   "cell_type": "code",
   "execution_count": 103,
   "metadata": {},
   "outputs": [
    {
     "data": {
      "text/html": [
       "<div>\n",
       "<style scoped>\n",
       "    .dataframe tbody tr th:only-of-type {\n",
       "        vertical-align: middle;\n",
       "    }\n",
       "\n",
       "    .dataframe tbody tr th {\n",
       "        vertical-align: top;\n",
       "    }\n",
       "\n",
       "    .dataframe thead th {\n",
       "        text-align: right;\n",
       "    }\n",
       "</style>\n",
       "<table border=\"1\" class=\"dataframe\">\n",
       "  <thead>\n",
       "    <tr style=\"text-align: right;\">\n",
       "      <th></th>\n",
       "      <th>x1</th>\n",
       "      <th>x2</th>\n",
       "      <th>x3</th>\n",
       "      <th>x4</th>\n",
       "      <th>x5</th>\n",
       "      <th>y</th>\n",
       "    </tr>\n",
       "  </thead>\n",
       "  <tbody>\n",
       "    <tr>\n",
       "      <th>0</th>\n",
       "      <td>0</td>\n",
       "      <td>0</td>\n",
       "      <td>0</td>\n",
       "      <td>0</td>\n",
       "      <td>0</td>\n",
       "      <td>0</td>\n",
       "    </tr>\n",
       "    <tr>\n",
       "      <th>1</th>\n",
       "      <td>1</td>\n",
       "      <td>0</td>\n",
       "      <td>1</td>\n",
       "      <td>0</td>\n",
       "      <td>0</td>\n",
       "      <td>1</td>\n",
       "    </tr>\n",
       "    <tr>\n",
       "      <th>2</th>\n",
       "      <td>0</td>\n",
       "      <td>1</td>\n",
       "      <td>0</td>\n",
       "      <td>0</td>\n",
       "      <td>1</td>\n",
       "      <td>1</td>\n",
       "    </tr>\n",
       "    <tr>\n",
       "      <th>3</th>\n",
       "      <td>1</td>\n",
       "      <td>1</td>\n",
       "      <td>1</td>\n",
       "      <td>1</td>\n",
       "      <td>1</td>\n",
       "      <td>0</td>\n",
       "    </tr>\n",
       "  </tbody>\n",
       "</table>\n",
       "</div>"
      ],
      "text/plain": [
       "   x1  x2  x3  x4  x5  y\n",
       "0   0   0   0   0   0  0\n",
       "1   1   0   1   0   0  1\n",
       "2   0   1   0   0   1  1\n",
       "3   1   1   1   1   1  0"
      ]
     },
     "execution_count": 103,
     "metadata": {},
     "output_type": "execute_result"
    }
   ],
   "source": [
    "# Write your code here!\n",
    "data = xor_data.copy()\n",
    "\n",
    "x1 = data[\"x1\"].values\n",
    "x2 = data[\"x2\"].values\n",
    "x3 = x1 * x1\n",
    "x4 = x1 * x2\n",
    "x5 = x2 * x2\n",
    "\n",
    "polynomial_xor_data = {'x1':x1, 'x2':x2, 'x3':x3, 'x4':x4, 'x5':x5, 'y':y}\n",
    "\n",
    "polynomial_xor_data = pd.DataFrame(polynomial_xor_data)\n",
    "\n",
    "polynomial_xor_data"
   ]
  },
  {
   "cell_type": "code",
   "execution_count": 102,
   "metadata": {},
   "outputs": [
    {
     "name": "stdout",
     "output_type": "stream",
     "text": [
      "010 accuracy = 0.75000\n",
      "----------------------------------------\n",
      "accuracy = 1.000000\n"
     ]
    }
   ],
   "source": [
    "data = polynomial_xor_data.copy()\n",
    "\n",
    "X = data[[\"x1\", \"x2\", \"x3\", \"x4\", \"x5\"]].values\n",
    "y = data[\"y\"].values\n",
    "\n",
    "w, b, accuracy = gradient_descent(X, y, print_num_epoch = 10)\n",
    "\n",
    "print (\"----\" * 10)\n",
    "print (\"accuracy = {:.6f}\".format(accuracy))"
   ]
  },
  {
   "cell_type": "markdown",
   "metadata": {},
   "source": [
    "### Multi-layer Neural Network"
   ]
  },
  {
   "cell_type": "code",
   "execution_count": 113,
   "metadata": {},
   "outputs": [
    {
     "data": {
      "text/plain": [
       "(4, 1)"
      ]
     },
     "execution_count": 113,
     "metadata": {},
     "output_type": "execute_result"
    }
   ],
   "source": [
    "data = xor_data.copy()\n",
    "\n",
    "X = data[[\"x1\", \"x2\"]].values\n",
    "y = data[[\"y\"]].values\n",
    "\n",
    "# result가 반대인 경우 아래와 같이 2가지 방법으로 shape를 바꿔준다.\n",
    "# y = y.reshape(y.shape[1], y.shape[0]) # 1\n",
    "# y = y.T # 2\n",
    "y.shape"
   ]
  },
  {
   "cell_type": "code",
   "execution_count": 122,
   "metadata": {},
   "outputs": [
    {
     "name": "stdout",
     "output_type": "stream",
     "text": [
      "(3, 1) -- (4, 1)  dot  (4, 3)\n",
      "(2, 3) -- (4, 3)  dot  (4, 2)\n"
     ]
    }
   ],
   "source": [
    "w1 = np.random.uniform(low = -1.0, high = +1.0, size = (2, 3))\n",
    "b1 = np.random.uniform(low = -1.0, high = +1.0, size = (1, 3))\n",
    "\n",
    "w2 = np.random.uniform(low = -1.0, high = +1.0, size = (3, 1))\n",
    "b2 = np.random.uniform(low = -1.0, high = +1.0, size = (1, 1))\n",
    "\n",
    "# Forward Propagation\n",
    "z1 = X.dot(w1) + b1\n",
    "a1 = sigmoid(z1)  # By Activation Function\n",
    "z2 = a1.dot(w2) + b2\n",
    "a2 = sigmoid(z2)\n",
    "\n",
    "# Backward Propagation\n",
    "d2 = a2 - y\n",
    "d1 = d2.dot(w2.T) * a1 * (1 - a1)\n",
    "\n",
    "print (w2.shape, \"--\", d2.shape, \" dot \", a1.shape)\n",
    "w2 = w2 - learning_rate * a1.T.dot(d2) / len(X)\n",
    "b2 = b2 - learning_rate * d2.mean(axis = 0)\n",
    "\n",
    "print (w1.shape, \"--\", d1.shape, \" dot \", X.shape)\n",
    "w1 = w1 - learning_rate * X.T.dot(d1) / len(X)\n",
    "b1 = b1 - learning_rate * d1.mean(axis = 0)"
   ]
  },
  {
   "cell_type": "code",
   "execution_count": 125,
   "metadata": {},
   "outputs": [
    {
     "name": "stdout",
     "output_type": "stream",
     "text": [
      "0100 accuracy = 0.50000\n",
      "0200 accuracy = 0.75000\n",
      "0242 accuracy = 1.00000\n"
     ]
    }
   ],
   "source": [
    "num_epoch = 1000\n",
    "learning_rate = 1.0\n",
    "print_num_epoch = 100\n",
    "\n",
    "w1 = np.random.uniform(low = -1.0, high = +1.0, size = (2, 3))\n",
    "b1 = np.random.uniform(low = -1.0, high = +1.0, size = (1, 3))\n",
    "\n",
    "w2 = np.random.uniform(low = -1.0, high = +1.0, size = (3, 1))\n",
    "b2 = np.random.uniform(low = -1.0, high = +1.0, size = (1, 1))\n",
    "\n",
    "for epoch in range(num_epoch):\n",
    "    z1 = X.dot(w1) + b1\n",
    "    a1 = sigmoid(z1)\n",
    "    z2 = a1.dot(w2) + b2\n",
    "    a2 = sigmoid(z2)\n",
    "    \n",
    "    predict = (a2 > 0.5).astype('int')\n",
    "    accuracy = (predict == y).mean()\n",
    "    \n",
    "    if (epoch + 1) % print_num_epoch == 0:\n",
    "            print(\"{0:04} accuracy = {1:.5f}\".format((epoch + 1), accuracy))\n",
    "\n",
    "    if accuracy == 1.00:\n",
    "        break\n",
    "    \n",
    "    d2 = a2 - y\n",
    "    d1 = d2.dot(w2.T) * a1 * (1 - a1)\n",
    "\n",
    "    w2 = w2 - learning_rate * a1.T.dot(d2) / len(X)\n",
    "    b2 = b2 - learning_rate * d2.mean(axis = 0)\n",
    "\n",
    "    w1 = w1 - learning_rate * X.T.dot(d1) / len(X)\n",
    "    b1 = b1 - learning_rate * d1.mean(axis = 0)\n",
    "    \n",
    "print(\"{0:04} accuracy = {1:.5f}\".format((epoch + 1), accuracy))"
   ]
  },
  {
   "cell_type": "code",
   "execution_count": null,
   "metadata": {},
   "outputs": [],
   "source": []
  }
 ],
 "metadata": {
  "kernelspec": {
   "display_name": "Python 3",
   "language": "python",
   "name": "python3"
  },
  "language_info": {
   "codemirror_mode": {
    "name": "ipython",
    "version": 3
   },
   "file_extension": ".py",
   "mimetype": "text/x-python",
   "name": "python",
   "nbconvert_exporter": "python",
   "pygments_lexer": "ipython3",
   "version": "3.6.7"
  }
 },
 "nbformat": 4,
 "nbformat_minor": 2
}
