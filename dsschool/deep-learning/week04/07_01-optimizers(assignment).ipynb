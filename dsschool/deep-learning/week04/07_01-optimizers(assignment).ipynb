{
 "cells": [
  {
   "cell_type": "code",
   "execution_count": 1,
   "metadata": {
    "collapsed": true
   },
   "outputs": [],
   "source": [
    "%matplotlib inline\n",
    "import numpy as np\n",
    "import pandas as pd\n",
    "import matplotlib.pyplot as plt"
   ]
  },
  {
   "cell_type": "markdown",
   "metadata": {},
   "source": [
    "## Load Dataset"
   ]
  },
  {
   "cell_type": "code",
   "execution_count": 2,
   "metadata": {
    "collapsed": true
   },
   "outputs": [],
   "source": [
    "from sklearn.datasets import load_digits\n",
    "\n",
    "digits = load_digits()"
   ]
  },
  {
   "cell_type": "code",
   "execution_count": 3,
   "metadata": {},
   "outputs": [
    {
     "name": "stdout",
     "output_type": "stream",
     "text": [
      "(1797, 64)\n"
     ]
    },
    {
     "data": {
      "text/plain": [
       "array([[  0.,   0.,   5., ...,   0.,   0.,   0.],\n",
       "       [  0.,   0.,   0., ...,  10.,   0.,   0.],\n",
       "       [  0.,   0.,   0., ...,  16.,   9.,   0.],\n",
       "       ..., \n",
       "       [  0.,   0.,   1., ...,   6.,   0.,   0.],\n",
       "       [  0.,   0.,   2., ...,  12.,   0.,   0.],\n",
       "       [  0.,   0.,  10., ...,  12.,   1.,   0.]])"
      ]
     },
     "execution_count": 3,
     "metadata": {},
     "output_type": "execute_result"
    }
   ],
   "source": [
    "X = digits[\"data\"]\n",
    "\n",
    "print(X.shape)\n",
    "X"
   ]
  },
  {
   "cell_type": "markdown",
   "metadata": {},
   "source": [
    "### Visualize"
   ]
  },
  {
   "cell_type": "code",
   "execution_count": 4,
   "metadata": {},
   "outputs": [
    {
     "data": {
      "text/plain": [
       "<matplotlib.image.AxesImage at 0x10a628c88>"
      ]
     },
     "execution_count": 4,
     "metadata": {},
     "output_type": "execute_result"
    },
    {
     "data": {
      "text/plain": [
       "<matplotlib.figure.Figure at 0x1058c3278>"
      ]
     },
     "metadata": {},
     "output_type": "display_data"
    },
    {
     "data": {
      "image/png": "[encoded data removed]",
      "text/plain": [
       "<matplotlib.figure.Figure at 0x1059714a8>"
      ]
     },
     "metadata": {},
     "output_type": "display_data"
    }
   ],
   "source": [
    "%matplotlib inline\n",
    "import matplotlib.pyplot as plt\n",
    "\n",
    "plt.gray()\n",
    "\n",
    "figure, axes = plt.subplots(nrows=2, ncols=5)\n",
    "figure.set_size_inches(18, 8)\n",
    "\n",
    "axes[0][0].matshow(X[0].reshape(8, 8))\n",
    "axes[0][1].matshow(X[1].reshape(8, 8))\n",
    "axes[0][2].matshow(X[2].reshape(8, 8))\n",
    "axes[0][3].matshow(X[3].reshape(8, 8))\n",
    "axes[0][4].matshow(X[4].reshape(8, 8))\n",
    "axes[1][0].matshow(X[5].reshape(8, 8))\n",
    "axes[1][1].matshow(X[6].reshape(8, 8))\n",
    "axes[1][2].matshow(X[7].reshape(8, 8))\n",
    "axes[1][3].matshow(X[8].reshape(8, 8))\n",
    "axes[1][4].matshow(X[9].reshape(8, 8))"
   ]
  },
  {
   "cell_type": "code",
   "execution_count": 5,
   "metadata": {},
   "outputs": [
    {
     "name": "stdout",
     "output_type": "stream",
     "text": [
      "(1797,)\n"
     ]
    },
    {
     "data": {
      "text/plain": [
       "array([0, 1, 2, ..., 8, 9, 8])"
      ]
     },
     "execution_count": 5,
     "metadata": {},
     "output_type": "execute_result"
    }
   ],
   "source": [
    "y = digits[\"target\"]\n",
    "\n",
    "print(y.shape)\n",
    "y"
   ]
  },
  {
   "cell_type": "markdown",
   "metadata": {},
   "source": [
    "## Preprocessing"
   ]
  },
  {
   "cell_type": "code",
   "execution_count": 6,
   "metadata": {},
   "outputs": [
    {
     "data": {
      "text/plain": [
       "(8.995463126623417e-17, -4.8841645798553142, 11.115835420144686)"
      ]
     },
     "execution_count": 6,
     "metadata": {},
     "output_type": "execute_result"
    }
   ],
   "source": [
    "X_mean = X.mean()\n",
    "\n",
    "X = X - X_mean\n",
    "\n",
    "X.mean(), X.min(), X.max()"
   ]
  },
  {
   "cell_type": "code",
   "execution_count": 7,
   "metadata": {},
   "outputs": [
    {
     "name": "stderr",
     "output_type": "stream",
     "text": [
      "Using TensorFlow backend.\n",
      "/Users/shaynekang/anaconda3/lib/python3.6/importlib/_bootstrap.py:219: RuntimeWarning: compiletime version 3.5 of module 'tensorflow.python.framework.fast_tensor_util' does not match runtime version 3.6\n",
      "  return f(*args, **kwds)\n"
     ]
    },
    {
     "name": "stdout",
     "output_type": "stream",
     "text": [
      "(1797,) (1797, 10)\n"
     ]
    }
   ],
   "source": [
    "from keras.utils import to_categorical\n",
    "\n",
    "y_hot = to_categorical(y)\n",
    "\n",
    "print(y.shape, y_hot.shape)"
   ]
  },
  {
   "cell_type": "markdown",
   "metadata": {},
   "source": [
    "## Define Activation"
   ]
  },
  {
   "cell_type": "markdown",
   "metadata": {},
   "source": [
    "### Sigmoid"
   ]
  },
  {
   "cell_type": "code",
   "execution_count": 8,
   "metadata": {},
   "outputs": [
    {
     "data": {
      "text/plain": [
       "[<matplotlib.lines.Line2D at 0x1a1e7ce940>]"
      ]
     },
     "execution_count": 8,
     "metadata": {},
     "output_type": "execute_result"
    },
    {
     "data": {
      "image/png": "[encoded data removed]",
      "text/plain": [
       "<matplotlib.figure.Figure at 0x1a1e798400>"
      ]
     },
     "metadata": {},
     "output_type": "display_data"
    }
   ],
   "source": [
    "def sigmoid(n):\n",
    "    return 1 / (1 + np.exp(-n))\n",
    "\n",
    "xx = np.linspace(start=-9, stop=+9)\n",
    "yy = sigmoid(xx)\n",
    "\n",
    "plt.plot(xx, yy)"
   ]
  },
  {
   "cell_type": "code",
   "execution_count": 9,
   "metadata": {},
   "outputs": [
    {
     "data": {
      "text/plain": [
       "[<matplotlib.lines.Line2D at 0x1a1e8a00f0>]"
      ]
     },
     "execution_count": 9,
     "metadata": {},
     "output_type": "execute_result"
    },
    {
     "data": {
      "image/png": "[encoded data removed]",
      "text/plain": [
       "<matplotlib.figure.Figure at 0x1a1e7abeb8>"
      ]
     },
     "metadata": {},
     "output_type": "display_data"
    }
   ],
   "source": [
    "def sigmoid_derivative(n):\n",
    "    return sigmoid(n) * (1 - sigmoid(n))\n",
    "\n",
    "xx = np.linspace(start=-9, stop=+9)\n",
    "yy = sigmoid_derivative(xx)\n",
    "\n",
    "plt.plot(xx, yy)"
   ]
  },
  {
   "cell_type": "markdown",
   "metadata": {},
   "source": [
    "## Define Cross Entropy"
   ]
  },
  {
   "cell_type": "code",
   "execution_count": 10,
   "metadata": {
    "collapsed": true
   },
   "outputs": [],
   "source": [
    "def cross_entropy(actual, predict, eps=1e-5):\n",
    "    actual = np.array(actual)\n",
    "    predict = np.array(predict)\n",
    "\n",
    "    clipped_predict = np.minimum(np.maximum(predict, eps), 1 - eps)\n",
    "\n",
    "    loss = actual * np.log(clipped_predict) + (1 - actual) * np.log(1 - clipped_predict)\n",
    "    \n",
    "    return -1.0 * loss.mean()"
   ]
  },
  {
   "cell_type": "markdown",
   "metadata": {},
   "source": [
    "## Build a Model"
   ]
  },
  {
   "cell_type": "code",
   "execution_count": 11,
   "metadata": {
    "collapsed": true
   },
   "outputs": [],
   "source": [
    "from time import time\n",
    "\n",
    "def train(X, y, num_epoch, learning_rate, update_method):\n",
    "    history = []\n",
    "\n",
    "    start = time()\n",
    "\n",
    "    w1 = np.random.uniform(low=-np.sqrt(6 / (64+100)),\n",
    "                           high=+np.sqrt(6 / (64+100)),\n",
    "                           size=(64, 100))\n",
    "\n",
    "    w2 = np.random.uniform(low=-np.sqrt(6 / (100+10)),\n",
    "                           high=+np.sqrt(6 / (100+10)),\n",
    "                           size=(100, 10))\n",
    "\n",
    "    for epoch in range(num_epoch):\n",
    "        # Forward Propagation\n",
    "        z1 = X.dot(w1)\n",
    "        a1 = sigmoid(z1)\n",
    "        z2 = a1.dot(w2)\n",
    "        a2 = sigmoid(z2)\n",
    "\n",
    "        y_predict = np.argmax(a2, axis=1)\n",
    "\n",
    "        accuracy = (y_predict == y).mean()\n",
    "        loss = cross_entropy(a2, y_hot)\n",
    "\n",
    "        if epoch % (num_epoch // 10) == 0:\n",
    "            print(\"{0:3} accuracy = {1:.5f}, loss = {2:.5f}\".format(epoch, accuracy, loss))\n",
    "\n",
    "        history.append({\n",
    "            'epoch': epoch,\n",
    "            'elapsed': time() - start,\n",
    "            'accuracy': accuracy,\n",
    "            'loss': loss,\n",
    "        })\n",
    "\n",
    "        # Backpropagation\n",
    "        d2 = (a2 - y_hot)\n",
    "        d1 = d2.dot(w2.T) * sigmoid_derivative(z1)\n",
    "\n",
    "        # Weight gradients\n",
    "        dw2 = a1.T.dot(d2)\n",
    "        dw1 = X.T.dot(d1)\n",
    "\n",
    "        w1, w2 = update_method(epoch, learning_rate, w1, w2, dw1, dw2)\n",
    "\n",
    "    print(\"----\" * 10)\n",
    "    print(\"{0:3} accuracy = {1:.5f}, loss = {2:.5f}\".format(epoch, accuracy, loss))\n",
    "    \n",
    "    history = pd.DataFrame(history)\n",
    "    history = history[[\"epoch\", \"elapsed\", \"accuracy\", \"loss\"]]\n",
    "\n",
    "    return history"
   ]
  },
  {
   "cell_type": "markdown",
   "metadata": {
    "collapsed": true
   },
   "source": [
    "### Stochastic Gradient Descent"
   ]
  },
  {
   "cell_type": "code",
   "execution_count": 12,
   "metadata": {
    "collapsed": true
   },
   "outputs": [],
   "source": [
    "# Write your code here!"
   ]
  },
  {
   "cell_type": "markdown",
   "metadata": {},
   "source": [
    "### Momentum"
   ]
  },
  {
   "cell_type": "code",
   "execution_count": 13,
   "metadata": {
    "collapsed": true
   },
   "outputs": [],
   "source": [
    "# Write your code here!"
   ]
  },
  {
   "cell_type": "markdown",
   "metadata": {},
   "source": [
    "### Nesterov Momentum"
   ]
  },
  {
   "cell_type": "code",
   "execution_count": 14,
   "metadata": {
    "collapsed": true
   },
   "outputs": [],
   "source": [
    "# Write your code here!"
   ]
  },
  {
   "cell_type": "markdown",
   "metadata": {
    "collapsed": true
   },
   "source": [
    "### AdaGrad"
   ]
  },
  {
   "cell_type": "code",
   "execution_count": 15,
   "metadata": {
    "collapsed": true
   },
   "outputs": [],
   "source": [
    "# Write your code here!"
   ]
  },
  {
   "cell_type": "markdown",
   "metadata": {},
   "source": [
    "### RMSProp"
   ]
  },
  {
   "cell_type": "code",
   "execution_count": 16,
   "metadata": {
    "collapsed": true
   },
   "outputs": [],
   "source": [
    "# Write your code here!"
   ]
  },
  {
   "cell_type": "markdown",
   "metadata": {},
   "source": [
    "### Adam"
   ]
  },
  {
   "cell_type": "code",
   "execution_count": 18,
   "metadata": {
    "collapsed": true
   },
   "outputs": [],
   "source": [
    "## Write your code here!"
   ]
  },
  {
   "cell_type": "code",
   "execution_count": null,
   "metadata": {
    "collapsed": true
   },
   "outputs": [],
   "source": []
  }
 ],
 "metadata": {
  "kernelspec": {
   "display_name": "Python 3",
   "language": "python",
   "name": "python3"
  },
  "language_info": {
   "codemirror_mode": {
    "name": "ipython",
    "version": 3
   },
   "file_extension": ".py",
   "mimetype": "text/x-python",
   "name": "python",
   "nbconvert_exporter": "python",
   "pygments_lexer": "ipython3",
   "version": "3.6.3"
  }
 },
 "nbformat": 4,
 "nbformat_minor": 2
}
