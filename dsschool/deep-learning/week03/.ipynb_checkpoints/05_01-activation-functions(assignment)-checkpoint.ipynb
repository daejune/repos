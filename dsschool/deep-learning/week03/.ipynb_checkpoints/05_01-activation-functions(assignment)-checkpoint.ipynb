{
 "cells": [
  {
   "cell_type": "code",
   "execution_count": 1,
   "metadata": {},
   "outputs": [],
   "source": [
    "import numpy as np\n",
    "import matplotlib.pyplot as plt"
   ]
  },
  {
   "cell_type": "markdown",
   "metadata": {},
   "source": [
    "## Load Dataset"
   ]
  },
  {
   "cell_type": "code",
   "execution_count": 2,
   "metadata": {},
   "outputs": [],
   "source": [
    "from sklearn.datasets import load_digits\n",
    "\n",
    "mnist = load_digits()"
   ]
  },
  {
   "cell_type": "code",
   "execution_count": 3,
   "metadata": {},
   "outputs": [
    {
     "name": "stdout",
     "output_type": "stream",
     "text": [
      "(1797, 64)\n"
     ]
    },
    {
     "data": {
      "text/plain": [
       "array([[ 0.,  0.,  5., ...,  0.,  0.,  0.],\n",
       "       [ 0.,  0.,  0., ..., 10.,  0.,  0.],\n",
       "       [ 0.,  0.,  0., ..., 16.,  9.,  0.],\n",
       "       ...,\n",
       "       [ 0.,  0.,  1., ...,  6.,  0.,  0.],\n",
       "       [ 0.,  0.,  2., ..., 12.,  0.,  0.],\n",
       "       [ 0.,  0., 10., ..., 12.,  1.,  0.]])"
      ]
     },
     "execution_count": 3,
     "metadata": {},
     "output_type": "execute_result"
    }
   ],
   "source": [
    "X = mnist[\"data\"]\n",
    "\n",
    "print(X.shape)\n",
    "X"
   ]
  },
  {
   "cell_type": "code",
   "execution_count": 4,
   "metadata": {},
   "outputs": [
    {
     "name": "stdout",
     "output_type": "stream",
     "text": [
      "(1797,)\n"
     ]
    },
    {
     "data": {
      "text/plain": [
       "array([0, 1, 2, ..., 8, 9, 8])"
      ]
     },
     "execution_count": 4,
     "metadata": {},
     "output_type": "execute_result"
    }
   ],
   "source": [
    "y = mnist[\"target\"]\n",
    "\n",
    "print(y.shape)\n",
    "y"
   ]
  },
  {
   "cell_type": "markdown",
   "metadata": {},
   "source": [
    "## Preprocessing"
   ]
  },
  {
   "cell_type": "code",
   "execution_count": 5,
   "metadata": {},
   "outputs": [
    {
     "name": "stderr",
     "output_type": "stream",
     "text": [
      "Using TensorFlow backend.\n"
     ]
    },
    {
     "name": "stdout",
     "output_type": "stream",
     "text": [
      "(1797, 10)\n"
     ]
    },
    {
     "data": {
      "text/plain": [
       "array([[1., 0., 0., ..., 0., 0., 0.],\n",
       "       [0., 1., 0., ..., 0., 0., 0.],\n",
       "       [0., 0., 1., ..., 0., 0., 0.],\n",
       "       ...,\n",
       "       [0., 0., 0., ..., 0., 1., 0.],\n",
       "       [0., 0., 0., ..., 0., 0., 1.],\n",
       "       [0., 0., 0., ..., 0., 1., 0.]], dtype=float32)"
      ]
     },
     "execution_count": 5,
     "metadata": {},
     "output_type": "execute_result"
    }
   ],
   "source": [
    "from keras.utils import to_categorical\n",
    "\n",
    "y_hot = to_categorical(y)\n",
    "\n",
    "print(y_hot.shape)\n",
    "y_hot"
   ]
  },
  {
   "cell_type": "markdown",
   "metadata": {},
   "source": [
    "## Activate Functions"
   ]
  },
  {
   "cell_type": "markdown",
   "metadata": {},
   "source": [
    "### Sigmoid"
   ]
  },
  {
   "cell_type": "code",
   "execution_count": 36,
   "metadata": {},
   "outputs": [
    {
     "data": {
      "text/plain": [
       "[<matplotlib.lines.Line2D at 0x11dff4c18>]"
      ]
     },
     "execution_count": 36,
     "metadata": {},
     "output_type": "execute_result"
    },
    {
     "data": {
      "image/png": "[encoded data removed]",
      "text/plain": [
       "<Figure size 432x288 with 1 Axes>"
      ]
     },
     "metadata": {
      "needs_background": "light"
     },
     "output_type": "display_data"
    }
   ],
   "source": [
    "# Write your code here!\n",
    "def sigmoid(n):\n",
    "    return 1 / (1 + np.exp(-n))\n",
    "\n",
    "xx = np.linspace(start = -9, stop = 9)\n",
    "yy = sigmoid(xx)\n",
    "\n",
    "plt.plot(xx, yy)"
   ]
  },
  {
   "cell_type": "code",
   "execution_count": 45,
   "metadata": {},
   "outputs": [
    {
     "data": {
      "text/plain": [
       "[<matplotlib.lines.Line2D at 0x12324f160>]"
      ]
     },
     "execution_count": 45,
     "metadata": {},
     "output_type": "execute_result"
    },
    {
     "data": {
      "image/png": "[encoded data removed]",
      "text/plain": [
       "<Figure size 432x288 with 1 Axes>"
      ]
     },
     "metadata": {
      "needs_background": "light"
     },
     "output_type": "display_data"
    }
   ],
   "source": [
    "def sigmoid_derivative(n):\n",
    "    sig = sigmoid(n)\n",
    "    return sig * (1 - sig)\n",
    "\n",
    "xx = np.linspace(start = -9, stop = 9)\n",
    "yy = sigmoid_derivative(xx)\n",
    "\n",
    "plt.plot(xx, yy)"
   ]
  },
  {
   "cell_type": "markdown",
   "metadata": {},
   "source": [
    "### ReLU"
   ]
  },
  {
   "cell_type": "code",
   "execution_count": 54,
   "metadata": {},
   "outputs": [
    {
     "data": {
      "text/plain": [
       "[<matplotlib.lines.Line2D at 0x12043b828>]"
      ]
     },
     "execution_count": 54,
     "metadata": {},
     "output_type": "execute_result"
    },
    {
     "data": {
      "image/png": "[encoded data removed]",
      "text/plain": [
       "<Figure size 432x288 with 1 Axes>"
      ]
     },
     "metadata": {
      "needs_background": "light"
     },
     "output_type": "display_data"
    }
   ],
   "source": [
    "# Write your code here!\n",
    "def relu(n):\n",
    "    return n * (n > 0)\n",
    "\n",
    "xx = np.linspace(start = -9, stop = 9)\n",
    "yy = relu(xx)\n",
    "\n",
    "plt.plot(xx, yy)"
   ]
  },
  {
   "cell_type": "code",
   "execution_count": 55,
   "metadata": {},
   "outputs": [
    {
     "data": {
      "text/plain": [
       "[<matplotlib.lines.Line2D at 0x120456630>]"
      ]
     },
     "execution_count": 55,
     "metadata": {},
     "output_type": "execute_result"
    },
    {
     "data": {
      "image/png": "[encoded data removed]",
      "text/plain": [
       "<Figure size 432x288 with 1 Axes>"
      ]
     },
     "metadata": {
      "needs_background": "light"
     },
     "output_type": "display_data"
    }
   ],
   "source": [
    "def relu_derivative(n):\n",
    "    return 1 * (n > 0)\n",
    "\n",
    "xx = np.linspace(start = -9, stop = 9)\n",
    "yy = relu_derivative(xx)\n",
    "\n",
    "plt.plot(xx, yy)"
   ]
  },
  {
   "cell_type": "markdown",
   "metadata": {},
   "source": [
    "### Benchmark"
   ]
  },
  {
   "cell_type": "code",
   "execution_count": 46,
   "metadata": {},
   "outputs": [
    {
     "name": "stdout",
     "output_type": "stream",
     "text": [
      "CPU times: user 1.95 s, sys: 23.3 ms, total: 1.97 s\n",
      "Wall time: 1.97 s\n",
      "CPU times: user 2.41 s, sys: 22.3 ms, total: 2.43 s\n",
      "Wall time: 2.43 s\n"
     ]
    }
   ],
   "source": [
    "benchmarks = 1000000\n",
    "%time tmp = [sigmoid(i) for i in range (benchmarks)]\n",
    "%time tmp = [sigmoid_derivative(i) for i in range (benchmarks)]"
   ]
  },
  {
   "cell_type": "code",
   "execution_count": 47,
   "metadata": {},
   "outputs": [
    {
     "name": "stdout",
     "output_type": "stream",
     "text": [
      "CPU times: user 220 ms, sys: 25.6 ms, total: 246 ms\n",
      "Wall time: 247 ms\n",
      "CPU times: user 181 ms, sys: 10.7 ms, total: 192 ms\n",
      "Wall time: 192 ms\n"
     ]
    }
   ],
   "source": [
    "%time tmp = [relu(i) for i in range (benchmarks)]\n",
    "%time tmp = [relu_derivative(i) for i in range (benchmarks)]"
   ]
  },
  {
   "cell_type": "markdown",
   "metadata": {},
   "source": [
    "## Train"
   ]
  },
  {
   "cell_type": "code",
   "execution_count": 61,
   "metadata": {},
   "outputs": [],
   "source": [
    "import time\n",
    "\n",
    "def train(X, y, y_hot, num_epoch, learning_rate, activation, activation_derivative):\n",
    "    num_input = X.shape[1]\n",
    "    num_output = y_hot.shape[1]\n",
    "\n",
    "    w1 = np.random.uniform(low=-np.sqrt(6 / (num_input + 100)), high=np.sqrt(6 / (num_input + 100)), size=(num_input, 100))\n",
    "    w2 = np.random.uniform(low=-np.sqrt(6 / (100 + 100)), high=np.sqrt(6 / (100 + 100)), size=(100, 100))\n",
    "    w3 = np.random.uniform(low=-np.sqrt(6 / (100 + num_output)), high=np.sqrt(6 / (100 + 10)), size=(100, num_output))\n",
    "\n",
    "    history = []\n",
    "\n",
    "    start = time.time()\n",
    "\n",
    "    for epoch in range(num_epoch):\n",
    "        z1 = X.dot(w1)\n",
    "        a1 = activation(z1)\n",
    "        z2 = a1.dot(w2)\n",
    "        a2 = activation(z2)\n",
    "        z3 = a2.dot(w3)\n",
    "        a3 = sigmoid(z3)\n",
    "\n",
    "        y_predict = np.argmax(a3, axis=1)    \n",
    "        error = (y != y_predict).mean()\n",
    "\n",
    "        if epoch % 10 == 0:\n",
    "            print(\"{0:2} error = {1:.5f}\".format(epoch, error))\n",
    "\n",
    "        end = time.time()\n",
    "        history.append({\n",
    "            'epoch': epoch,\n",
    "            'time': end - start,\n",
    "            'error': error\n",
    "        })\n",
    "\n",
    "        d3 = a3 - y_hot\n",
    "        d2 = d3.dot(w3.T) * activation_derivative(a2)\n",
    "        d1 = d2.dot(w2.T) * activation_derivative(a1)\n",
    "\n",
    "        w3 = w3 - learning_rate * a2.T.dot(d3)\n",
    "        w2 = w2 - learning_rate * a1.T.dot(d2)\n",
    "        w1 = w1 - learning_rate * X.T.dot(d1)\n",
    "\n",
    "    end = time.time()\n",
    "    elapsed = end - start\n",
    "\n",
    "    return history, error, elapsed"
   ]
  },
  {
   "cell_type": "markdown",
   "metadata": {},
   "source": [
    "### Sigmoid"
   ]
  },
  {
   "cell_type": "code",
   "execution_count": 62,
   "metadata": {},
   "outputs": [
    {
     "name": "stdout",
     "output_type": "stream",
     "text": [
      " 0 error = 0.89928\n",
      "10 error = 0.38286\n",
      "20 error = 0.33111\n",
      "30 error = 0.29716\n",
      "40 error = 0.20590\n",
      "50 error = 0.17752\n",
      "60 error = 0.17307\n",
      "70 error = 0.16027\n",
      "80 error = 0.15081\n",
      "90 error = 0.14691\n",
      "----------------------------------------\n",
      "[Sigmoid] Elapsed = 2.07 seconds, error = 0.141903\n"
     ]
    }
   ],
   "source": [
    "# Write your code here!\n",
    "num_epoch = 100\n",
    "learning_rate = 0.0003\n",
    "\n",
    "sigmoid_history, error, elapsed = train(X, y, y_hot, num_epoch, learning_rate, sigmoid, sigmoid_derivative)\n",
    "\n",
    "print(\"----\" * 10)\n",
    "print(\"[Sigmoid] Elapsed = {:.2f} seconds, error = {:.6f}\".format(elapsed, error))"
   ]
  },
  {
   "cell_type": "markdown",
   "metadata": {},
   "source": [
    "### ReLU"
   ]
  },
  {
   "cell_type": "code",
   "execution_count": 63,
   "metadata": {},
   "outputs": [
    {
     "name": "stdout",
     "output_type": "stream",
     "text": [
      " 0 error = 0.88982\n",
      "10 error = 0.38397\n",
      "20 error = 0.14858\n",
      "30 error = 0.08737\n",
      "40 error = 0.06400\n",
      "50 error = 0.05120\n",
      "60 error = 0.04730\n",
      "70 error = 0.04452\n",
      "80 error = 0.03840\n",
      "90 error = 0.03728\n",
      "----------------------------------------\n",
      "[Relu] Elapsed = 1.72 seconds, error = 0.033389\n"
     ]
    }
   ],
   "source": [
    "# Write your code here!\n",
    "num_epoch = 100\n",
    "learning_rate = 0.00001\n",
    "\n",
    "relu_history, error, elapsed = train(X, y, y_hot, num_epoch, learning_rate, relu, relu_derivative)\n",
    "\n",
    "print(\"----\" * 10)\n",
    "print(\"[Relu] Elapsed = {:.2f} seconds, error = {:.6f}\".format(elapsed, error))"
   ]
  },
  {
   "cell_type": "markdown",
   "metadata": {
    "collapsed": true
   },
   "source": [
    "### Visualize\n",
    "#### epoch 비교와 time 비교로 나뉨\n",
    "#### epoch 비교는 1회 학습 시간이 비슷한 시간(1회 학습)일 때 적합\n",
    "#### time 비교는 1회 학습 시간이 차이가 날 때 적합: Real World에서는 학습에 수십시간이 들어갈수 있으므로"
   ]
  },
  {
   "cell_type": "code",
   "execution_count": 64,
   "metadata": {},
   "outputs": [
    {
     "data": {
      "text/plain": [
       "<matplotlib.legend.Legend at 0x1029bbf98>"
      ]
     },
     "execution_count": 64,
     "metadata": {},
     "output_type": "execute_result"
    },
    {
     "data": {
      "image/png": "[encoded data removed]",
      "text/plain": [
       "<Figure size 432x288 with 1 Axes>"
      ]
     },
     "metadata": {
      "needs_background": "light"
     },
     "output_type": "display_data"
    }
   ],
   "source": [
    "%matplotlib inline\n",
    "import pandas as pd\n",
    "\n",
    "sigmoid_history = pd.DataFrame(sigmoid_history)\n",
    "relu_history = pd.DataFrame(relu_history)\n",
    "\n",
    "plt.plot(sigmoid_history['epoch'], sigmoid_history['error'], label=\"Sigmoid\")\n",
    "plt.plot(relu_history['epoch'], relu_history['error'], label=\"ReLU\")\n",
    "\n",
    "plt.legend()"
   ]
  },
  {
   "cell_type": "code",
   "execution_count": 65,
   "metadata": {},
   "outputs": [
    {
     "data": {
      "text/plain": [
       "<matplotlib.legend.Legend at 0x12068e470>"
      ]
     },
     "execution_count": 65,
     "metadata": {},
     "output_type": "execute_result"
    },
    {
     "data": {
      "image/png": "[encoded data removed]",
      "text/plain": [
       "<Figure size 432x288 with 1 Axes>"
      ]
     },
     "metadata": {
      "needs_background": "light"
     },
     "output_type": "display_data"
    }
   ],
   "source": [
    "plt.plot(sigmoid_history['time'], sigmoid_history['error'], label=\"Sigmoid\")\n",
    "plt.plot(relu_history['time'], relu_history['error'], label=\"ReLU\")\n",
    "\n",
    "plt.legend()"
   ]
  },
  {
   "cell_type": "code",
   "execution_count": null,
   "metadata": {},
   "outputs": [],
   "source": []
  }
 ],
 "metadata": {
  "kernelspec": {
   "display_name": "Python 3",
   "language": "python",
   "name": "python3"
  },
  "language_info": {
   "codemirror_mode": {
    "name": "ipython",
    "version": 3
   },
   "file_extension": ".py",
   "mimetype": "text/x-python",
   "name": "python",
   "nbconvert_exporter": "python",
   "pygments_lexer": "ipython3",
   "version": "3.6.7"
  }
 },
 "nbformat": 4,
 "nbformat_minor": 2
}
