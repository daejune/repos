{
 "cells": [
  {
   "cell_type": "code",
   "execution_count": 1,
   "metadata": {},
   "outputs": [],
   "source": [
    "import numpy as np\n",
    "import pandas as pd"
   ]
  },
  {
   "cell_type": "markdown",
   "metadata": {},
   "source": [
    "## Prerequisites"
   ]
  },
  {
   "cell_type": "code",
   "execution_count": 2,
   "metadata": {},
   "outputs": [
    {
     "name": "stdout",
     "output_type": "stream",
     "text": [
      "Requirement already satisfied: tensorflow in /Users/daejune/anaconda3/envs/dsschool/lib/python3.6/site-packages (1.12.0)\n",
      "Requirement already satisfied: numpy>=1.13.3 in /Users/daejune/anaconda3/envs/dsschool/lib/python3.6/site-packages (from tensorflow) (1.15.4)\n",
      "Requirement already satisfied: gast>=0.2.0 in /Users/daejune/anaconda3/envs/dsschool/lib/python3.6/site-packages (from tensorflow) (0.2.0)\n",
      "Requirement already satisfied: absl-py>=0.1.6 in /Users/daejune/anaconda3/envs/dsschool/lib/python3.6/site-packages (from tensorflow) (0.6.1)\n",
      "Requirement already satisfied: keras-applications>=1.0.6 in /Users/daejune/anaconda3/envs/dsschool/lib/python3.6/site-packages (from tensorflow) (1.0.6)\n",
      "Requirement already satisfied: protobuf>=3.6.1 in /Users/daejune/anaconda3/envs/dsschool/lib/python3.6/site-packages (from tensorflow) (3.6.1)\n",
      "Requirement already satisfied: tensorboard<1.13.0,>=1.12.0 in /Users/daejune/anaconda3/envs/dsschool/lib/python3.6/site-packages (from tensorflow) (1.12.0)\n",
      "Requirement already satisfied: wheel>=0.26 in /Users/daejune/anaconda3/envs/dsschool/lib/python3.6/site-packages (from tensorflow) (0.32.3)\n",
      "Requirement already satisfied: termcolor>=1.1.0 in /Users/daejune/anaconda3/envs/dsschool/lib/python3.6/site-packages (from tensorflow) (1.1.0)\n",
      "Requirement already satisfied: six>=1.10.0 in /Users/daejune/anaconda3/envs/dsschool/lib/python3.6/site-packages (from tensorflow) (1.11.0)\n",
      "Requirement already satisfied: astor>=0.6.0 in /Users/daejune/anaconda3/envs/dsschool/lib/python3.6/site-packages (from tensorflow) (0.7.1)\n",
      "Requirement already satisfied: keras-preprocessing>=1.0.5 in /Users/daejune/anaconda3/envs/dsschool/lib/python3.6/site-packages (from tensorflow) (1.0.5)\n",
      "Requirement already satisfied: grpcio>=1.8.6 in /Users/daejune/anaconda3/envs/dsschool/lib/python3.6/site-packages (from tensorflow) (1.16.1)\n",
      "Requirement already satisfied: h5py in /Users/daejune/anaconda3/envs/dsschool/lib/python3.6/site-packages (from keras-applications>=1.0.6->tensorflow) (2.8.0)\n",
      "Requirement already satisfied: setuptools in /Users/daejune/anaconda3/envs/dsschool/lib/python3.6/site-packages (from protobuf>=3.6.1->tensorflow) (40.6.2)\n",
      "Requirement already satisfied: werkzeug>=0.11.10 in /Users/daejune/anaconda3/envs/dsschool/lib/python3.6/site-packages (from tensorboard<1.13.0,>=1.12.0->tensorflow) (0.14.1)\n",
      "Requirement already satisfied: markdown>=2.6.8 in /Users/daejune/anaconda3/envs/dsschool/lib/python3.6/site-packages (from tensorboard<1.13.0,>=1.12.0->tensorflow) (3.0.1)\n"
     ]
    }
   ],
   "source": [
    "# 파이썬을 아나콘다로 설치한 경우, 아래 명령어 대신 아나콘다 네비게이터(Anaconda Navigator)를 실행한 뒤\n",
    "# 좌측의 환경(Environment) 탭에서 설치할 수 있습니다.\n",
    "!pip install tensorflow"
   ]
  },
  {
   "cell_type": "code",
   "execution_count": 3,
   "metadata": {},
   "outputs": [
    {
     "name": "stdout",
     "output_type": "stream",
     "text": [
      "Requirement already satisfied: keras in /Users/daejune/anaconda3/envs/dsschool/lib/python3.6/site-packages (2.2.4)\n",
      "Requirement already satisfied: six>=1.9.0 in /Users/daejune/anaconda3/envs/dsschool/lib/python3.6/site-packages (from keras) (1.11.0)\n",
      "Requirement already satisfied: keras-applications>=1.0.6 in /Users/daejune/anaconda3/envs/dsschool/lib/python3.6/site-packages (from keras) (1.0.6)\n",
      "Requirement already satisfied: pyyaml in /Users/daejune/anaconda3/envs/dsschool/lib/python3.6/site-packages (from keras) (3.13)\n",
      "Requirement already satisfied: numpy>=1.9.1 in /Users/daejune/anaconda3/envs/dsschool/lib/python3.6/site-packages (from keras) (1.15.4)\n",
      "Requirement already satisfied: scipy>=0.14 in /Users/daejune/anaconda3/envs/dsschool/lib/python3.6/site-packages (from keras) (1.1.0)\n",
      "Requirement already satisfied: h5py in /Users/daejune/anaconda3/envs/dsschool/lib/python3.6/site-packages (from keras) (2.8.0)\n",
      "Requirement already satisfied: keras-preprocessing>=1.0.5 in /Users/daejune/anaconda3/envs/dsschool/lib/python3.6/site-packages (from keras) (1.0.5)\n"
     ]
    }
   ],
   "source": [
    "# 파이썬을 아나콘다로 설치한 경우, 아래 명령어 대신 아나콘다 네비게이터(Anaconda Navigator)를 실행한 뒤\n",
    "# 좌측의 환경(Environment) 탭에서 설치할 수 있습니다.\n",
    "!pip install keras"
   ]
  },
  {
   "cell_type": "markdown",
   "metadata": {},
   "source": [
    "## MNIST Dataset\n",
    "\n",
    "이번 과제는 [MNIST 필기체 데이터셋](http://yann.lecun.com/exdb/mnist/)을 활용하여 필기체 이미지를 인식하는 이미지 인식 알고리즘을 Single-layer Neural Network로 작성합니다.\n",
    "\n",
    "가로 28px, 세로 28px의 필기체 이미지가 주어지며, 필기체는 숫자 0부터 9까지 총 10개의 Label로 구성되어 있습니다. 이미지는 컬러가 없는 흑백 데이터이며, 한 픽셀의 값은 0 ~ 255 입니다. (0일수록 어둡고, 255일수록 밝습니다)\n",
    "\n",
    "데이터는 60,000개의 Train 데이터와 10,000개의 Test 데이터가 주어지는데, Train 데이터로 Single-layer Neural Network를 학습한 뒤 Test 데이터로 정확도(accuracy)를 측정합니다. 각 변수의 세부 정보는 다음과 같습니다.\n",
    "\n",
    "  * **X_train**: **Train 데이터의 Feature** 입니다. 가로 28px, 세로 28px, 총 60,000개의 데이터로 구성되어 있습니다. 픽셀 하나의 값은 0 ~ 255 입니다. (0일수록 어둡고, 255일수록 밝습니다)\n",
    "  * **y_train**: **Train 데이터의 Label** 입니다. 총 60,000 개이며, 이미지가 어떤 숫자를 나타내는지가 적혀 있습니다. 값은 0부터 9까지 입니다.\n",
    "  * **X_test**: **Test 데이터의 Feature** 입니다. 가로 28px, 세로 28px, 총 10,000개의 데이터로 구성되어 있습니다. 픽셀 하나의 값은 0 ~ 255 입니다. (0일수록 어둡고, 255일수록 밝습니다)\n",
    "  * **y_test**: **Test 데이터의 Label** 입니다. 총 10,000 개이며, 이미지가 어떤 숫자를 나타내는지가 적혀 있습니다. 값은 0부터 9까지 입니다.\n",
    "  \n",
    "** 주의 사항 **\n",
    "  * 이전에 Iris Dataset 문제를 풀었던 코드를 조금만 응용하면 매우 쉽게 MNIST 데이터셋 문제를 풀 수 있습니다.\n",
    "  * accuracy가 잘 올라가지 않고 그 이유를 잘 모르겠다면, Loss Function(=Cross Entropy)를 병행해서 사용해보세요. 앞서 언급드린대로 Loss Function은 \"학습이 잘 될수록 0에 수렵하고, 학습이 잘 되지 않을수록 무한대로 발산합니다.\" 즉, Loss Function을 사용할 결과가 무한대로 발산하고 있다면 무언가 제대로 풀리지 않고 있다는 것입니다."
   ]
  },
  {
   "cell_type": "code",
   "execution_count": 4,
   "metadata": {},
   "outputs": [
    {
     "name": "stderr",
     "output_type": "stream",
     "text": [
      "Using TensorFlow backend.\n"
     ]
    },
    {
     "name": "stdout",
     "output_type": "stream",
     "text": [
      "(60000, 28, 28) (10000, 28, 28)\n",
      "(60000,) (10000,)\n"
     ]
    }
   ],
   "source": [
    "from keras.datasets import mnist\n",
    "\n",
    "((X_train, y_train), (X_test, y_test)) = mnist.load_data()\n",
    "\n",
    "print(X_train.shape, X_test.shape)\n",
    "print(y_train.shape, y_test.shape)"
   ]
  },
  {
   "cell_type": "code",
   "execution_count": 5,
   "metadata": {},
   "outputs": [
    {
     "name": "stdout",
     "output_type": "stream",
     "text": [
      "[5 0 4 1 9 2 1 3 1 4]\n"
     ]
    },
    {
     "data": {
      "text/plain": [
       "<matplotlib.image.AxesImage at 0x129c958d0>"
      ]
     },
     "execution_count": 5,
     "metadata": {},
     "output_type": "execute_result"
    },
    {
     "data": {
      "text/plain": [
       "<Figure size 432x288 with 0 Axes>"
      ]
     },
     "metadata": {},
     "output_type": "display_data"
    },
    {
     "data": {
      "image/png": "[encoded data removed]",
      "text/plain": [
       "<Figure size 1296x576 with 10 Axes>"
      ]
     },
     "metadata": {
      "needs_background": "light"
     },
     "output_type": "display_data"
    }
   ],
   "source": [
    "%matplotlib inline\n",
    "import matplotlib.pyplot as plt\n",
    "\n",
    "plt.gray()\n",
    "\n",
    "print(y_train[0:10])\n",
    "\n",
    "figures, axes = plt.subplots(nrows=2, ncols=5)\n",
    "figures.set_size_inches(18, 8)\n",
    "\n",
    "axes[0][0].matshow(X_train[0])\n",
    "axes[0][1].matshow(X_train[1])\n",
    "axes[0][2].matshow(X_train[2])\n",
    "axes[0][3].matshow(X_train[3])\n",
    "axes[0][4].matshow(X_train[4])\n",
    "axes[1][0].matshow(X_train[5])\n",
    "axes[1][1].matshow(X_train[6])\n",
    "axes[1][2].matshow(X_train[7])\n",
    "axes[1][3].matshow(X_train[8])\n",
    "axes[1][4].matshow(X_train[9])"
   ]
  },
  {
   "cell_type": "markdown",
   "metadata": {},
   "source": [
    "## Preprocessing"
   ]
  },
  {
   "cell_type": "code",
   "execution_count": 6,
   "metadata": {},
   "outputs": [
    {
     "name": "stdout",
     "output_type": "stream",
     "text": [
      "(60000, 784) (10000, 784)\n"
     ]
    }
   ],
   "source": [
    "X_train = X_train.reshape(60000, 28 * 28)\n",
    "X_test = X_test.reshape(10000, 28 * 28)\n",
    "\n",
    "print(X_train.shape, X_test.shape)"
   ]
  },
  {
   "cell_type": "code",
   "execution_count": 7,
   "metadata": {},
   "outputs": [
    {
     "name": "stdout",
     "output_type": "stream",
     "text": [
      "(60000, 10)\n",
      "(10000, 10)\n"
     ]
    }
   ],
   "source": [
    "from keras.utils import to_categorical\n",
    "\n",
    "# One hot encoding을 합니다.\n",
    "# np.eye(10)[y_train]과 동일합니다.\n",
    "y_train_hot = to_categorical(y_train)\n",
    "\n",
    "# np.eye(10)[y_test]와 동일합니다.\n",
    "y_test_hot = to_categorical(y_test)\n",
    "\n",
    "print(y_train_hot.shape)\n",
    "print(y_test_hot.shape)"
   ]
  },
  {
   "cell_type": "markdown",
   "metadata": {},
   "source": [
    "### Define Sigmoid"
   ]
  },
  {
   "cell_type": "code",
   "execution_count": 8,
   "metadata": {},
   "outputs": [],
   "source": [
    "def sigmoid(n):\n",
    "    return 1 / (1 + np.exp(-n))"
   ]
  },
  {
   "cell_type": "code",
   "execution_count": 9,
   "metadata": {},
   "outputs": [
    {
     "data": {
      "text/plain": [
       "[<matplotlib.lines.Line2D at 0x12c502d30>]"
      ]
     },
     "execution_count": 9,
     "metadata": {},
     "output_type": "execute_result"
    },
    {
     "data": {
      "image/png": "[encoded data removed]",
      "text/plain": [
       "<Figure size 432x288 with 1 Axes>"
      ]
     },
     "metadata": {
      "needs_background": "light"
     },
     "output_type": "display_data"
    }
   ],
   "source": [
    "xx = np.linspace(-10, 10)\n",
    "yy = sigmoid(xx)\n",
    "\n",
    "plt.plot(xx, yy)"
   ]
  },
  {
   "cell_type": "markdown",
   "metadata": {},
   "source": [
    "### Define Cross-Entropy"
   ]
  },
  {
   "cell_type": "code",
   "execution_count": 10,
   "metadata": {},
   "outputs": [],
   "source": [
    "def cross_entropy(actual, predict, eps=1e-15):\n",
    "    actual = np.array(actual)\n",
    "    predict = np.array(predict)\n",
    "\n",
    "    clipped_predict = np.minimum(np.maximum(predict, eps), 1 - eps)\n",
    "\n",
    "    loss = actual * np.log(clipped_predict) + (1 - actual) * np.log(1 - clipped_predict)\n",
    "    \n",
    "    return -1.0 * loss.mean()"
   ]
  },
  {
   "cell_type": "markdown",
   "metadata": {},
   "source": [
    "### Gradient Descent"
   ]
  },
  {
   "cell_type": "code",
   "execution_count": 17,
   "metadata": {},
   "outputs": [
    {
     "name": "stderr",
     "output_type": "stream",
     "text": [
      "/Users/daejune/anaconda3/envs/dsschool/lib/python3.6/site-packages/ipykernel_launcher.py:2: RuntimeWarning: overflow encountered in exp\n",
      "  \n"
     ]
    },
    {
     "name": "stdout",
     "output_type": "stream",
     "text": [
      "  0 accuracy = 0.118833, cross_entropy = 13.134370\n",
      "  5 accuracy = 0.408333, cross_entropy = 5.108542\n",
      " 10 accuracy = 0.728650, cross_entropy = 2.039074\n",
      " 15 accuracy = 0.712283, cross_entropy = 2.276288\n",
      " 20 accuracy = 0.765583, cross_entropy = 2.522491\n",
      " 25 accuracy = 0.765150, cross_entropy = 1.674823\n",
      " 30 accuracy = 0.794850, cross_entropy = 1.645278\n",
      " 35 accuracy = 0.790317, cross_entropy = 1.830572\n",
      " 40 accuracy = 0.757650, cross_entropy = 1.544000\n",
      " 45 accuracy = 0.754000, cross_entropy = 1.887368\n",
      " 50 accuracy = 0.758450, cross_entropy = 1.768471\n",
      " 55 accuracy = 0.769317, cross_entropy = 1.748296\n",
      " 60 accuracy = 0.768067, cross_entropy = 1.652908\n",
      " 65 accuracy = 0.789850, cross_entropy = 1.666845\n",
      " 70 accuracy = 0.779667, cross_entropy = 1.594998\n",
      " 75 accuracy = 0.784550, cross_entropy = 1.670405\n",
      " 80 accuracy = 0.791517, cross_entropy = 1.442059\n",
      " 85 accuracy = 0.824300, cross_entropy = 1.495212\n",
      " 90 accuracy = 0.801650, cross_entropy = 1.401118\n",
      " 95 accuracy = 0.801117, cross_entropy = 1.578072\n",
      "100 accuracy = 0.789583, cross_entropy = 1.527019\n",
      "105 accuracy = 0.787667, cross_entropy = 1.655689\n",
      "110 accuracy = 0.785883, cross_entropy = 1.481758\n",
      "115 accuracy = 0.823200, cross_entropy = 1.460889\n",
      "120 accuracy = 0.819217, cross_entropy = 1.211190\n"
     ]
    },
    {
     "ename": "KeyboardInterrupt",
     "evalue": "",
     "output_type": "error",
     "traceback": [
      "\u001b[0;31m---------------------------------------------------------------------------\u001b[0m",
      "\u001b[0;31mKeyboardInterrupt\u001b[0m                         Traceback (most recent call last)",
      "\u001b[0;32m<ipython-input-17-fa76ddbcd519>\u001b[0m in \u001b[0;36m<module>\u001b[0;34m\u001b[0m\n\u001b[1;32m     21\u001b[0m         \u001b[0mprint\u001b[0m \u001b[0;34m(\u001b[0m\u001b[0;34m\"{:3} accuracy = {:.6f}, cross_entropy = {:.6f}\"\u001b[0m\u001b[0;34m.\u001b[0m\u001b[0mformat\u001b[0m\u001b[0;34m(\u001b[0m\u001b[0mepoch\u001b[0m\u001b[0;34m,\u001b[0m \u001b[0maccuracy\u001b[0m\u001b[0;34m,\u001b[0m \u001b[0mcross_entropy\u001b[0m\u001b[0;34m(\u001b[0m\u001b[0my_train_hot\u001b[0m\u001b[0;34m,\u001b[0m \u001b[0my_predict_hot\u001b[0m\u001b[0;34m)\u001b[0m\u001b[0;34m)\u001b[0m\u001b[0;34m)\u001b[0m\u001b[0;34m\u001b[0m\u001b[0;34m\u001b[0m\u001b[0m\n\u001b[1;32m     22\u001b[0m \u001b[0;34m\u001b[0m\u001b[0m\n\u001b[0;32m---> 23\u001b[0;31m     \u001b[0mW\u001b[0m \u001b[0;34m=\u001b[0m \u001b[0mW\u001b[0m \u001b[0;34m-\u001b[0m \u001b[0mlearning_rate\u001b[0m \u001b[0;34m*\u001b[0m \u001b[0mX_train\u001b[0m\u001b[0;34m.\u001b[0m\u001b[0mT\u001b[0m\u001b[0;34m.\u001b[0m\u001b[0mdot\u001b[0m\u001b[0;34m(\u001b[0m\u001b[0my_predict_hot\u001b[0m \u001b[0;34m-\u001b[0m \u001b[0my_train_hot\u001b[0m\u001b[0;34m)\u001b[0m \u001b[0;34m/\u001b[0m \u001b[0mlen\u001b[0m\u001b[0;34m(\u001b[0m\u001b[0mX_train\u001b[0m\u001b[0;34m)\u001b[0m\u001b[0;34m\u001b[0m\u001b[0;34m\u001b[0m\u001b[0m\n\u001b[0m\u001b[1;32m     24\u001b[0m     \u001b[0mb\u001b[0m \u001b[0;34m=\u001b[0m \u001b[0mb\u001b[0m \u001b[0;34m-\u001b[0m \u001b[0mlearning_rate\u001b[0m \u001b[0;34m*\u001b[0m \u001b[0;34m(\u001b[0m\u001b[0my_predict_hot\u001b[0m \u001b[0;34m-\u001b[0m \u001b[0my_train_hot\u001b[0m\u001b[0;34m)\u001b[0m\u001b[0;34m.\u001b[0m\u001b[0mmean\u001b[0m\u001b[0;34m(\u001b[0m\u001b[0maxis\u001b[0m \u001b[0;34m=\u001b[0m \u001b[0;36m0\u001b[0m\u001b[0;34m)\u001b[0m\u001b[0;34m\u001b[0m\u001b[0;34m\u001b[0m\u001b[0m\n\u001b[1;32m     25\u001b[0m \u001b[0;34m\u001b[0m\u001b[0m\n",
      "\u001b[0;31mKeyboardInterrupt\u001b[0m: "
     ]
    }
   ],
   "source": [
    "# Write your code here!\n",
    "## Write code here\n",
    "\n",
    "num_epoch = 1000\n",
    "learning_rate = 0.01\n",
    "\n",
    "W = np.random.uniform(low=-1.0, high=1.0, size=(28 * 28, 10))\n",
    "b = np.random.uniform(low=-1.0, high=1.0, size=(1, 10))\n",
    "\n",
    "for epoch in range(num_epoch):\n",
    "    y_predict_hot = X_train.dot(W) + b\n",
    "    y_predict_hot = sigmoid(y_predict_hot)\n",
    "    \n",
    "    y_predict = y_predict_hot.argmax(axis = 1)\n",
    "    \n",
    "    accuracy = (y_predict == y_train).mean()\n",
    "    if accuracy > 0.9:\n",
    "        break\n",
    "        \n",
    "    if epoch % 5 == 0:\n",
    "        print (\"{:3} accuracy = {:.6f}, cross_entropy = {:.6f}\".format(epoch, accuracy, cross_entropy(y_train_hot, y_predict_hot)))\n",
    "\n",
    "    W = W - learning_rate * X_train.T.dot(y_predict_hot - y_train_hot) / len(X_train)\n",
    "    b = b - learning_rate * (y_predict_hot - y_train_hot).mean(axis = 0)\n",
    "    \n",
    "print (\"-----\" * 10)\n",
    "print (\"{:3} accuracy = {:.6f}\".format(epoch, accuracy))"
   ]
  },
  {
   "cell_type": "code",
   "execution_count": null,
   "metadata": {},
   "outputs": [],
   "source": []
  }
 ],
 "metadata": {
  "kernelspec": {
   "display_name": "Python 3",
   "language": "python",
   "name": "python3"
  },
  "language_info": {
   "codemirror_mode": {
    "name": "ipython",
    "version": 3
   },
   "file_extension": ".py",
   "mimetype": "text/x-python",
   "name": "python",
   "nbconvert_exporter": "python",
   "pygments_lexer": "ipython3",
   "version": "3.6.7"
  }
 },
 "nbformat": 4,
 "nbformat_minor": 1
}
