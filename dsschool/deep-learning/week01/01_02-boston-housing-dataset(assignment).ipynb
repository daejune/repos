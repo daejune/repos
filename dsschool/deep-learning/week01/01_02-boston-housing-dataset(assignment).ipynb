{
 "cells": [
  {
   "cell_type": "code",
   "execution_count": 128,
   "metadata": {},
   "outputs": [],
   "source": [
    "import numpy as np"
   ]
  },
  {
   "cell_type": "markdown",
   "metadata": {
    "collapsed": true
   },
   "source": [
    "## Boston Housing Dataset\n",
    "\n",
    "이번 과제는 보스턴시의 주택 가격과 관련 데이터를 활용하여 보스턴 시의 집값을 예측하는 문제를 푸는 것입니다. Single-layer Neural Network를 활용하여 보스턴의 집값을 예측하는 알고리즘을 구현하세요.\n",
    "\n",
    "각 컬럼에 대한 설명은 다음과 같습니다. 출처: [ai-times](http://ai-times.tistory.com/431 [ai-times])\n",
    "\n",
    "  * **CRIM**: 자치 시(town) 별 1인당 범죄율\n",
    "  * **ZN**: 25,000 평방피트를 초과하는 거주지역의 비율\n",
    "  * **INDUS**: 비소매상업지역이 점유하고 있는 토지의 비율\n",
    "  * **CHAS**: 찰스강의 경계에 위치해 있으면 1, 그렇지 않으면 0\n",
    "  * **NOX**: 10ppm당 농축 일산화질소\n",
    "  * **RM**: 주택 1가구당 평균 방의 개수\n",
    "  * **AGE**: 1940년 이전에 건축된 소유주택의 비율\n",
    "  * **DIS**: 5개의 보스턴 직업센터까지의 접근성 지수\n",
    "  * **RAD**: 방사형 도로까지의 접근성 지수\n",
    "  * **TAX**: 10,000 달러 당 재산세율\n",
    "  * **PTRATIO**: 자치 시(town)별 학생/교사 비율\n",
    "  * **B**: 1000(Bk-0.63)^2, 여기서 Bk는 자치시별 흑인의 비율을 말함.\n",
    "  * **LSTAT**: 모집단의 하위계층 비율(%)\n",
    "  * **MEDV**: 본인 소유의 주택가격(중앙값) (단위: $1,000)\n",
    "  \n",
    "** 주의 사항 **\n",
    "  * **MEDV**가 label(y), 나머지가 feature(X)라고 가정하고 문제를 풀어주세요.\n",
    "  * **한 번에 너무 잘 풀려는 시도를 하지 마세요.** 처음에는 어떻게든 동작하는 코드를 만드는데 집중하고, 그 다음에 코드를 개성하세요.\n",
    "  * 현실 데이터는 이전에 우리가 다룬 가상의 데이터와 다르기 때문에, error가 0에 가깝게 내려가지 않을 수도 있습니다. (```error = np.abs(y_predict - y).mean()```) **Boston Housing Dataset에서 error는 5 미만으로 내려가면 충분합니다. ** (=$5,000)\n",
    "  * error가 수렴하지 않고 발산한다면, **learning_rate를 작게 조정해보세요**."
   ]
  },
  {
   "cell_type": "code",
   "execution_count": 129,
   "metadata": {},
   "outputs": [],
   "source": [
    "from sklearn.datasets import load_boston\n",
    "\n",
    "boston = load_boston()"
   ]
  },
  {
   "cell_type": "code",
   "execution_count": 130,
   "metadata": {},
   "outputs": [
    {
     "name": "stdout",
     "output_type": "stream",
     "text": [
      "(506, 13)\n"
     ]
    },
    {
     "data": {
      "text/plain": [
       "array([6.320e-03, 1.800e+01, 2.310e+00, 0.000e+00, 5.380e-01, 6.575e+00,\n",
       "       6.520e+01, 4.090e+00, 1.000e+00, 2.960e+02, 1.530e+01, 3.969e+02,\n",
       "       4.980e+00])"
      ]
     },
     "execution_count": 130,
     "metadata": {},
     "output_type": "execute_result"
    }
   ],
   "source": [
    "X = boston[\"data\"]\n",
    "\n",
    "print(X.shape)\n",
    "X[0]"
   ]
  },
  {
   "cell_type": "code",
   "execution_count": 131,
   "metadata": {},
   "outputs": [
    {
     "name": "stdout",
     "output_type": "stream",
     "text": [
      "(506,)\n"
     ]
    },
    {
     "data": {
      "text/plain": [
       "array([24. , 21.6, 34.7, 33.4, 36.2, 28.7, 22.9, 27.1, 16.5, 18.9])"
      ]
     },
     "execution_count": 131,
     "metadata": {},
     "output_type": "execute_result"
    }
   ],
   "source": [
    "y = boston[\"target\"]\n",
    "print(y.shape)\n",
    "y[0:10]"
   ]
  },
  {
   "cell_type": "code",
   "execution_count": 132,
   "metadata": {},
   "outputs": [
    {
     "name": "stdout",
     "output_type": "stream",
     "text": [
      "(506, 14)\n"
     ]
    },
    {
     "data": {
      "text/html": [
       "<div>\n",
       "<style scoped>\n",
       "    .dataframe tbody tr th:only-of-type {\n",
       "        vertical-align: middle;\n",
       "    }\n",
       "\n",
       "    .dataframe tbody tr th {\n",
       "        vertical-align: top;\n",
       "    }\n",
       "\n",
       "    .dataframe thead th {\n",
       "        text-align: right;\n",
       "    }\n",
       "</style>\n",
       "<table border=\"1\" class=\"dataframe\">\n",
       "  <thead>\n",
       "    <tr style=\"text-align: right;\">\n",
       "      <th></th>\n",
       "      <th>CRIM</th>\n",
       "      <th>ZN</th>\n",
       "      <th>INDUS</th>\n",
       "      <th>CHAS</th>\n",
       "      <th>NOX</th>\n",
       "      <th>RM</th>\n",
       "      <th>AGE</th>\n",
       "      <th>DIS</th>\n",
       "      <th>RAD</th>\n",
       "      <th>TAX</th>\n",
       "      <th>PTRATIO</th>\n",
       "      <th>B</th>\n",
       "      <th>LSTAT</th>\n",
       "      <th>MEDV</th>\n",
       "    </tr>\n",
       "  </thead>\n",
       "  <tbody>\n",
       "    <tr>\n",
       "      <th>0</th>\n",
       "      <td>0.00632</td>\n",
       "      <td>18.0</td>\n",
       "      <td>2.31</td>\n",
       "      <td>0.0</td>\n",
       "      <td>0.538</td>\n",
       "      <td>6.575</td>\n",
       "      <td>65.2</td>\n",
       "      <td>4.0900</td>\n",
       "      <td>1.0</td>\n",
       "      <td>296.0</td>\n",
       "      <td>15.3</td>\n",
       "      <td>396.90</td>\n",
       "      <td>4.98</td>\n",
       "      <td>24.0</td>\n",
       "    </tr>\n",
       "    <tr>\n",
       "      <th>1</th>\n",
       "      <td>0.02731</td>\n",
       "      <td>0.0</td>\n",
       "      <td>7.07</td>\n",
       "      <td>0.0</td>\n",
       "      <td>0.469</td>\n",
       "      <td>6.421</td>\n",
       "      <td>78.9</td>\n",
       "      <td>4.9671</td>\n",
       "      <td>2.0</td>\n",
       "      <td>242.0</td>\n",
       "      <td>17.8</td>\n",
       "      <td>396.90</td>\n",
       "      <td>9.14</td>\n",
       "      <td>21.6</td>\n",
       "    </tr>\n",
       "    <tr>\n",
       "      <th>2</th>\n",
       "      <td>0.02729</td>\n",
       "      <td>0.0</td>\n",
       "      <td>7.07</td>\n",
       "      <td>0.0</td>\n",
       "      <td>0.469</td>\n",
       "      <td>7.185</td>\n",
       "      <td>61.1</td>\n",
       "      <td>4.9671</td>\n",
       "      <td>2.0</td>\n",
       "      <td>242.0</td>\n",
       "      <td>17.8</td>\n",
       "      <td>392.83</td>\n",
       "      <td>4.03</td>\n",
       "      <td>34.7</td>\n",
       "    </tr>\n",
       "    <tr>\n",
       "      <th>3</th>\n",
       "      <td>0.03237</td>\n",
       "      <td>0.0</td>\n",
       "      <td>2.18</td>\n",
       "      <td>0.0</td>\n",
       "      <td>0.458</td>\n",
       "      <td>6.998</td>\n",
       "      <td>45.8</td>\n",
       "      <td>6.0622</td>\n",
       "      <td>3.0</td>\n",
       "      <td>222.0</td>\n",
       "      <td>18.7</td>\n",
       "      <td>394.63</td>\n",
       "      <td>2.94</td>\n",
       "      <td>33.4</td>\n",
       "    </tr>\n",
       "    <tr>\n",
       "      <th>4</th>\n",
       "      <td>0.06905</td>\n",
       "      <td>0.0</td>\n",
       "      <td>2.18</td>\n",
       "      <td>0.0</td>\n",
       "      <td>0.458</td>\n",
       "      <td>7.147</td>\n",
       "      <td>54.2</td>\n",
       "      <td>6.0622</td>\n",
       "      <td>3.0</td>\n",
       "      <td>222.0</td>\n",
       "      <td>18.7</td>\n",
       "      <td>396.90</td>\n",
       "      <td>5.33</td>\n",
       "      <td>36.2</td>\n",
       "    </tr>\n",
       "  </tbody>\n",
       "</table>\n",
       "</div>"
      ],
      "text/plain": [
       "      CRIM    ZN  INDUS  CHAS    NOX     RM   AGE     DIS  RAD    TAX  \\\n",
       "0  0.00632  18.0   2.31   0.0  0.538  6.575  65.2  4.0900  1.0  296.0   \n",
       "1  0.02731   0.0   7.07   0.0  0.469  6.421  78.9  4.9671  2.0  242.0   \n",
       "2  0.02729   0.0   7.07   0.0  0.469  7.185  61.1  4.9671  2.0  242.0   \n",
       "3  0.03237   0.0   2.18   0.0  0.458  6.998  45.8  6.0622  3.0  222.0   \n",
       "4  0.06905   0.0   2.18   0.0  0.458  7.147  54.2  6.0622  3.0  222.0   \n",
       "\n",
       "   PTRATIO       B  LSTAT  MEDV  \n",
       "0     15.3  396.90   4.98  24.0  \n",
       "1     17.8  396.90   9.14  21.6  \n",
       "2     17.8  392.83   4.03  34.7  \n",
       "3     18.7  394.63   2.94  33.4  \n",
       "4     18.7  396.90   5.33  36.2  "
      ]
     },
     "execution_count": 132,
     "metadata": {},
     "output_type": "execute_result"
    }
   ],
   "source": [
    "import pandas as pd\n",
    "\n",
    "data = pd.DataFrame(X, columns=boston[\"feature_names\"])\n",
    "data[\"MEDV\"] = y\n",
    "\n",
    "print(data.shape)\n",
    "data.head()"
   ]
  },
  {
   "cell_type": "markdown",
   "metadata": {
    "collapsed": true
   },
   "source": [
    "### Gradient Descent"
   ]
  },
  {
   "cell_type": "code",
   "execution_count": 133,
   "metadata": {},
   "outputs": [],
   "source": [
    "x1 = X[:, 0] # CRIM\n",
    "x2 = X[:, 1] # ZN\n",
    "x3 = X[:, 2] # INDUS\n",
    "x4 = X[:, 3] # CHAS\n",
    "x5 = X[:, 4] # NOX\n",
    "x6 = X[:, 5] # RM\n",
    "x7 = X[:, 6] # AGE\n",
    "x8 = X[:, 7] # DIS\n",
    "x9 = X[:, 8] # RAD\n",
    "x10 = X[:, 9] # TAX\n",
    "x11 = X[:, 10] # PTRATIO\n",
    "x12 = X[:, 11] # B\n",
    "x13 = X[:, 12] # LSTAT"
   ]
  },
  {
   "cell_type": "code",
   "execution_count": 144,
   "metadata": {},
   "outputs": [
    {
     "name": "stdout",
     "output_type": "stream",
     "text": [
      "000000, error = 72.302852\n",
      "010000, error = 5.786874\n",
      "020000, error = 5.338503\n",
      "030000, error = 5.143324\n",
      "040000, error = 5.026987\n",
      "------------------------------------------------------------\n",
      "042931, error = 4.999999\n"
     ]
    }
   ],
   "source": [
    "# your code here\n",
    "# 여기에 Single-layer Neural Network 코드를 작성하여 보스턴 집값 문제를 풀어보세요!\n",
    "\n",
    "num_epoch = 1000000\n",
    "learning_rate = 0.000003 # Hyperparameter\n",
    "\n",
    "# x1 = x1 / x1.max()\n",
    "# x2 = x2 / x2.max()\n",
    "# x3 = x3 / x3.max()\n",
    "# x4 = x4 / x4.max()\n",
    "# x5 = x5 / x5.max()\n",
    "# x6 = x6 / x6.max()\n",
    "# x7 = x7 / x7.max()\n",
    "# x8 = x8 / x8.max()\n",
    "# x9 = x9 / x9.max()\n",
    "# x10 = x10 / x10.max()\n",
    "# x11 = x11 / x11.max()\n",
    "# x12 = x12 / x12.max()\n",
    "# x13 = x13 / x13.max()\n",
    "\n",
    "w1 = np.random.uniform(low = -1.0, high = 1.0)\n",
    "w2 = np.random.uniform(low = -1.0, high = 1.0)\n",
    "w3 = np.random.uniform(low = -1.0, high = 1.0)\n",
    "w4 = np.random.uniform(low = -1.0, high = 1.0)\n",
    "w5 = np.random.uniform(low = -1.0, high = 1.0)\n",
    "w6 = np.random.uniform(low = -1.0, high = 1.0)\n",
    "w7 = np.random.uniform(low = -1.0, high = 1.0)\n",
    "w8 = np.random.uniform(low = -1.0, high = 1.0)\n",
    "w9 = np.random.uniform(low = -1.0, high = 1.0)\n",
    "w10 = np.random.uniform(low = -1.0, high = 1.0)\n",
    "w11 = np.random.uniform(low = -1.0, high = 1.0)\n",
    "w12 = np.random.uniform(low = -1.0, high = 1.0)\n",
    "w13 = np.random.uniform(low = -1.0, high = 1.0)\n",
    "b = np.random.uniform(low = -1.0, high = 1.0)\n",
    "\n",
    "for epoch in range(num_epoch):\n",
    "    y_predict = x1 * w1 + x2 * w2 + x3 * w3 + x4 * w4 + x5 * w5 + x6 * w6 + x7 * w7 + x8 * w8 + x9 * w9 + x10 * w10 + x11 * w11 + x12 * w12 + x13 * w13 + b\n",
    "\n",
    "    error = np.abs(y_predict - y).mean()    \n",
    "    if error < 5:\n",
    "        break\n",
    "    \n",
    "    if epoch % 10000 == 0:\n",
    "        print (\"{:06}, error = {:.6f}\".format(epoch, error))\n",
    "#     print (\"w01 = {:.6f}, w02 = {:.6f}, w03 = {:.6f}, w04 = {:.6f}\".format(w1, w2, w3, w4))\n",
    "#     print (\"w05 = {:.6f}, w06 = {:.6f}, w07 = {:.6f}, w08 = {:.6f}\".format(w5, w6, w7, w8))\n",
    "#     print (\"w09 = {:.6f}, w10 = {:.6f}, w11 = {:.6f}, w12 = {:.6f}\".format(w9, w10, w11, w12))\n",
    "#     print (\"w13 = {:.6f}, b = {:.6f}\".format(w13, b))        \n",
    "\n",
    "    \n",
    "    w1 = w1 - learning_rate * ((y_predict - y) * x1).mean()\n",
    "    w2 = w2 - learning_rate * ((y_predict - y) * x2).mean()\n",
    "    w3 = w3 - learning_rate * ((y_predict - y) * x3).mean()\n",
    "    w4 = w4 - learning_rate * ((y_predict - y) * x4).mean()\n",
    "    w5 = w5 - learning_rate * ((y_predict - y) * x5).mean()\n",
    "    w6 = w6 - learning_rate * ((y_predict - y) * x6).mean()\n",
    "    w7 = w7 - learning_rate * ((y_predict - y) * x7).mean()\n",
    "    w8 = w8 - learning_rate * ((y_predict - y) * x8).mean()\n",
    "    w9 = w9 - learning_rate * ((y_predict - y) * x9).mean()\n",
    "    w10 = w10 - learning_rate * ((y_predict - y) * x10).mean()\n",
    "    w11 = w11 - learning_rate * ((y_predict - y) * x11).mean()\n",
    "    w12 = w12 - learning_rate * ((y_predict - y) * x12).mean()\n",
    "    w13 = w13 - learning_rate * ((y_predict - y) * x13).mean()\n",
    "    b = b - learning_rate * (y_predict - y).mean()\n",
    "    \n",
    "print (\"----\" * 15)\n",
    "print (\"{:06}, error = {:.6f}\".format(epoch, error))\n",
    "# print (\"w01 = {:.6f}, w02 = {:.6f}, w03 = {:.6f}, w04 = {:.6f}\".format(w1, w2, w3, w4))\n",
    "# print (\"w05 = {:.6f}, w06 = {:.6f}, w07 = {:.6f}, w08 = {:.6f}\".format(w5, w6, w7, w8))\n",
    "# print (\"w09 = {:.6f}, w10 = {:.6f}, w11 = {:.6f}, w12 = {:.6f}\".format(w9, w10, w11, w12))\n",
    "# print (\"w13 = {:.6f}, b = {:.6f}\".format(w13, b)) "
   ]
  },
  {
   "cell_type": "markdown",
   "metadata": {},
   "source": [
    "### Gradient Descent (use dot product)\n",
    "\n",
    "만일 위의 과제가 너무 쉽다는 생각이 들면, **matrix의 [dot product](https://mathinsight.org/dot_product_matrix_notation)를 활용하여 문제를 풀어보세요.** dot product의 사용법은 다음과 같습니다."
   ]
  },
  {
   "cell_type": "code",
   "execution_count": 110,
   "metadata": {},
   "outputs": [
    {
     "name": "stdout",
     "output_type": "stream",
     "text": [
      "(3, 3)\n"
     ]
    },
    {
     "data": {
      "text/plain": [
       "array([[1, 2, 3],\n",
       "       [4, 5, 6],\n",
       "       [7, 8, 9]])"
      ]
     },
     "execution_count": 110,
     "metadata": {},
     "output_type": "execute_result"
    }
   ],
   "source": [
    "X_temp = np.array([[1, 2, 3],\n",
    "                   [4, 5, 6],\n",
    "                   [7, 8, 9]])\n",
    "\n",
    "print(X_temp.shape)\n",
    "X_temp"
   ]
  },
  {
   "cell_type": "code",
   "execution_count": 111,
   "metadata": {},
   "outputs": [
    {
     "name": "stdout",
     "output_type": "stream",
     "text": [
      "(3,)\n"
     ]
    },
    {
     "data": {
      "text/plain": [
       "array([2, 4, 8])"
      ]
     },
     "execution_count": 111,
     "metadata": {},
     "output_type": "execute_result"
    }
   ],
   "source": [
    "w_temp = np.array([2, 4, 8])\n",
    "\n",
    "print(w_temp.shape)\n",
    "w_temp"
   ]
  },
  {
   "cell_type": "code",
   "execution_count": 112,
   "metadata": {},
   "outputs": [],
   "source": [
    "b_temp = np.array([0.1])"
   ]
  },
  {
   "cell_type": "code",
   "execution_count": 113,
   "metadata": {},
   "outputs": [
    {
     "name": "stdout",
     "output_type": "stream",
     "text": [
      "(3,)\n"
     ]
    },
    {
     "data": {
      "text/plain": [
       "array([ 34.1,  76.1, 118.1])"
      ]
     },
     "execution_count": 113,
     "metadata": {},
     "output_type": "execute_result"
    }
   ],
   "source": [
    "y_predict = X_temp.dot(w_temp) + b_temp\n",
    "\n",
    "print(y_predict.shape)\n",
    "y_predict"
   ]
  },
  {
   "cell_type": "code",
   "execution_count": 114,
   "metadata": {},
   "outputs": [],
   "source": [
    "# print(X.shape)\n",
    "# for feature in range(X.shape[1]):\n",
    "#     max = X[:, feature].max()\n",
    "#     for data in range(X.shape[0]):\n",
    "#         X[data][feature] /= max\n",
    "# data = pd.DataFrame(X, columns=boston[\"feature_names\"])\n",
    "# data[\"MEDV\"] = y\n",
    "\n",
    "# print(data.shape)\n",
    "# data"
   ]
  },
  {
   "cell_type": "code",
   "execution_count": 143,
   "metadata": {},
   "outputs": [
    {
     "name": "stdout",
     "output_type": "stream",
     "text": [
      "000000, error = 699.875429\n",
      "010000, error = 5.853894\n",
      "020000, error = 5.222344\n",
      "030000, error = 5.010517\n",
      "------------------------------------------------------------\n",
      "30754, error = 4.999991\n",
      "w00 = -0.140267\n",
      "w01 = 0.096259\n",
      "w02 = -0.248642\n",
      "w03 = -0.165009\n",
      "w04 = 0.951557\n",
      "w05 = 1.064413\n",
      "w06 = 0.102407\n",
      "w07 = -0.062424\n",
      "w08 = 0.050105\n",
      "w09 = 0.006289\n",
      "w10 = 0.141475\n",
      "w11 = 0.035096\n",
      "w12 = -0.575751\n",
      "b = -0.579261\n"
     ]
    }
   ],
   "source": [
    "# your code here\n",
    "# 여기에 Single-layer Neural Network에 dot product를 활용하여 보스턴 집값 문제를 풀어보세요!\n",
    "# X = np.array([x1, x2, x3, x4, x5, x6, x7, x8, x9, x10, x11, x12, x13])\n",
    "w1 = np.random.uniform(low = -1.0, high = 1.0)\n",
    "w2 = np.random.uniform(low = -1.0, high = 1.0)\n",
    "w3 = np.random.uniform(low = -1.0, high = 1.0)\n",
    "w4 = np.random.uniform(low = -1.0, high = 1.0)\n",
    "w5 = np.random.uniform(low = -1.0, high = 1.0)\n",
    "w6 = np.random.uniform(low = -1.0, high = 1.0)\n",
    "w7 = np.random.uniform(low = -1.0, high = 1.0)\n",
    "w8 = np.random.uniform(low = -1.0, high = 1.0)\n",
    "w9 = np.random.uniform(low = -1.0, high = 1.0)\n",
    "w10 = np.random.uniform(low = -1.0, high = 1.0)\n",
    "w11 = np.random.uniform(low = -1.0, high = 1.0)\n",
    "w12 = np.random.uniform(low = -1.0, high = 1.0)\n",
    "w13 = np.random.uniform(low = -1.0, high = 1.0)\n",
    "b = np.random.uniform(low = -1.0, high = 1.0)\n",
    "# W = np.array([w1, w2, w3, w4, w5, w6, w7, w8, w9, w10, w11, w12, w13])\n",
    "W = np.random.uniform(low=-1.0, high=1.0, size=13)\n",
    "\n",
    "num_epoch = 1000000\n",
    "learning_rate = 0.000003\n",
    "for epoch in range(num_epoch):\n",
    "    y_predict = X.dot(W) + b\n",
    "\n",
    "    error = np.abs(y_predict - y).mean()    \n",
    "    if error < 5:\n",
    "        break\n",
    "    if epoch % 10000 == 0:\n",
    "        print (\"{:06}, error = {:.6f}\".format(epoch, error))\n",
    "#     for weight in range(13):\n",
    "#         print (\"w{:02} = {:.6f}\".format(weight, W[weight]))\n",
    "#     print (\"b = {:.6f}\".format(b))\n",
    "\n",
    "    # Dot 연산을 위해 X를 전치함\n",
    "    # dot 연산은 합계가 기본이므로 mean() 대신 데이터의 갯수로 나눠줌\n",
    "    W = W - learning_rate * X.T.dot(y_predict - y) / len(X)\n",
    "    b = b - learning_rate * (y_predict - y).mean()\n",
    "    \n",
    "print (\"----\" * 15)\n",
    "print (\"{:04}, error = {:.6f}\".format(epoch, error))\n",
    "for weight in range(13):\n",
    "    print (\"w{:02} = {:.6f}\".format(weight, W[weight]))\n",
    "print (\"b = {:.6f}\".format(b))    "
   ]
  },
  {
   "cell_type": "code",
   "execution_count": null,
   "metadata": {},
   "outputs": [],
   "source": []
  },
  {
   "cell_type": "code",
   "execution_count": null,
   "metadata": {},
   "outputs": [],
   "source": []
  }
 ],
 "metadata": {
  "kernelspec": {
   "display_name": "Python 3",
   "language": "python",
   "name": "python3"
  },
  "language_info": {
   "codemirror_mode": {
    "name": "ipython",
    "version": 3
   },
   "file_extension": ".py",
   "mimetype": "text/x-python",
   "name": "python",
   "nbconvert_exporter": "python",
   "pygments_lexer": "ipython3",
   "version": "3.6.6"
  }
 },
 "nbformat": 4,
 "nbformat_minor": 1
}
