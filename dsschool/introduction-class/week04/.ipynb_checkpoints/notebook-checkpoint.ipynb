{
 "cells": [
  {
   "cell_type": "markdown",
   "metadata": {},
   "source": [
    "# Week04"
   ]
  },
  {
   "cell_type": "code",
   "execution_count": 21,
   "metadata": {},
   "outputs": [],
   "source": [
    "import pandas as pd\n",
    "\n",
    "train = pd.read_csv(\"bike_sharing/train.csv\")\n",
    "test = pd.read_csv(\"bike_sharing/test.csv\")"
   ]
  },
  {
   "cell_type": "code",
   "execution_count": 22,
   "metadata": {},
   "outputs": [],
   "source": [
    "train[\"datetime\"] = pd.to_datetime(train[\"datetime\"])\n",
    "\n",
    "train[\"datetime-year\"] = train[\"datetime\"].dt.year\n",
    "train[\"datetime-month\"] = train[\"datetime\"].dt.month\n",
    "train[\"datetime-day\"] = train[\"datetime\"].dt.day\n",
    "train[\"datetime-hour\"] = train[\"datetime\"].dt.hour\n",
    "train[\"datetime-minute\"] = train[\"datetime\"].dt.minute\n",
    "train[\"datetime-second\"] = train[\"datetime\"].dt.second"
   ]
  },
  {
   "cell_type": "code",
   "execution_count": 23,
   "metadata": {},
   "outputs": [
    {
     "name": "stdout",
     "output_type": "stream",
     "text": [
      "(10886, 10)\n",
      "(10886,)\n"
     ]
    }
   ],
   "source": [
    "feature_names = [\"season\", \"holiday\", \"workingday\", \"weather\", \"temp\", \"atemp\", \"humidity\", \"windspeed\", \"datetime-month\", \"datetime-hour\"]\n",
    "\n",
    "train_x = train[feature_names]\n",
    "\n",
    "print (train_x.shape)\n",
    "label_name = \"count\"\n",
    "\n",
    "train_y = train[label_name]\n",
    "print (train_y.shape)"
   ]
  },
  {
   "cell_type": "code",
   "execution_count": 24,
   "metadata": {},
   "outputs": [
    {
     "data": {
      "text/plain": [
       "RandomForestRegressor(bootstrap=True, criterion='mse', max_depth=None,\n",
       "           max_features='auto', max_leaf_nodes=None,\n",
       "           min_impurity_decrease=0.0, min_impurity_split=None,\n",
       "           min_samples_leaf=1, min_samples_split=2,\n",
       "           min_weight_fraction_leaf=0.0, n_estimators=10, n_jobs=1,\n",
       "           oob_score=False, random_state=8133, verbose=0, warm_start=False)"
      ]
     },
     "execution_count": 24,
     "metadata": {},
     "output_type": "execute_result"
    }
   ],
   "source": [
    "from sklearn.ensemble import RandomForestRegressor\n",
    "\n",
    "model = RandomForestRegressor(random_state=8133)\n",
    "model"
   ]
  },
  {
   "cell_type": "markdown",
   "metadata": {},
   "source": [
    "## Model Validation"
   ]
  },
  {
   "cell_type": "raw",
   "metadata": {},
   "source": [
    "가설 -> 검증 -> 예측"
   ]
  },
  {
   "cell_type": "markdown",
   "metadata": {},
   "source": [
    "### Hold-out Validation\n",
    "\n",
    "train : valid = 8 : 2\n",
    "\n",
    "속도가 빠르지만 / 정확도가 일정하지 않음 (특정 Data(경계값 data)가 Validation에서 빠지지만 Predict할 때는 들어가므로)\n",
    "\n",
    "### Cross Validation\n",
    "train / n -> 잘게 쪼갤수록 성능이 더 좋아진다.\n",
    "\n",
    "속도가 매우 느리지만 / 정확도가 높다"
   ]
  },
  {
   "cell_type": "markdown",
   "metadata": {},
   "source": [
    "### Evaluate"
   ]
  },
  {
   "cell_type": "code",
   "execution_count": 26,
   "metadata": {},
   "outputs": [
    {
     "name": "stdout",
     "output_type": "stream",
     "text": [
      "(10886,)\n"
     ]
    },
    {
     "data": {
      "text/plain": [
       "array([ 52.7,  44.4,  36.9, ..., 143.9, 122.7,  73.8])"
      ]
     },
     "execution_count": 26,
     "metadata": {},
     "output_type": "execute_result"
    }
   ],
   "source": [
    "from sklearn.model_selection import cross_val_predict\n",
    "\n",
    "predict_y = cross_val_predict(model, train_x, train_y, cv=20)\n",
    "\n",
    "print(predict_y.shape)\n",
    "\n",
    "predict_y"
   ]
  },
  {
   "cell_type": "markdown",
   "metadata": {},
   "source": [
    "## Evaluatuin Metric\n",
    "\n",
    "Accuracy는 Classification에 적합함\n",
    "\n",
    "$$ c = 100 $$\n",
    "\n",
    "$$ model_{A} = 101, model_{B} = 120 $$\n",
    "\n",
    "$$ Accuracy: model_{A} = 0, model_{B} = 0 $$"
   ]
  },
  {
   "cell_type": "markdown",
   "metadata": {},
   "source": [
    "$$ c = 100 $$\n",
    "$$ model_{A} = 120, model_{B} = 70 $$\n",
    "\n",
    "### 1. Mean Absoulute Error (MAE)\n",
    "\n",
    "$$ {{1} \\over {n}}\\sum\\limits_{t=1}^n |p^t - a^t| \\Longrightarrow |p - a|$$\n",
    "\n",
    "### 2. Mean Squared Error (MSE)\n",
    "\n",
    "$$ {{1} \\over {n}}\\sum\\limits_{t=1}^n (p^t - a^t)^2 \\Longrightarrow (p - a)^2$$\n",
    "\n",
    "### 3. Root Mean Squared Error (RMSE)\n",
    "\n",
    "$$ \\sqrt{{{1} \\over {n}}\\sum\\limits_{t=1}^n (p^t - a^t)^2} \\Longrightarrow \\sqrt{(p - a)^2}$$"
   ]
  },
  {
   "cell_type": "code",
   "execution_count": 36,
   "metadata": {},
   "outputs": [
    {
     "data": {
      "text/plain": [
       "'score = 68.32552'"
      ]
     },
     "execution_count": 36,
     "metadata": {},
     "output_type": "execute_result"
    }
   ],
   "source": [
    "from sklearn.metrics import mean_absolute_error\n",
    "\n",
    "score = mean_absolute_error(train_y,  predict_y)\n",
    "\"score = {:.5f}\".format(score)"
   ]
  },
  {
   "cell_type": "code",
   "execution_count": 41,
   "metadata": {},
   "outputs": [
    {
     "data": {
      "text/plain": [
       "'score = 9652.28033'"
      ]
     },
     "execution_count": 41,
     "metadata": {},
     "output_type": "execute_result"
    }
   ],
   "source": [
    "from sklearn.metrics import mean_squared_error\n",
    "\n",
    "score = mean_squared_error(train_y,  predict_y)\n",
    "\"score = {:.5f}\".format(score)"
   ]
  },
  {
   "cell_type": "code",
   "execution_count": 42,
   "metadata": {},
   "outputs": [
    {
     "data": {
      "text/plain": [
       "'score = 98.24602'"
      ]
     },
     "execution_count": 42,
     "metadata": {},
     "output_type": "execute_result"
    }
   ],
   "source": [
    "import numpy as np\n",
    "\n",
    "score = np.sqrt(score)\n",
    "\"score = {:.5f}\".format(score)"
   ]
  },
  {
   "cell_type": "markdown",
   "metadata": {},
   "source": [
    "### 4. Root Mean Squared Logarithmic Error (RMSLE)\n",
    "\n",
    "$$ \\sqrt{{{1} \\over {n}}\\sum\\limits_{i=1}^n (log(p_i + 1) - log(a_i + 1))^2}$$"
   ]
  },
  {
   "cell_type": "code",
   "execution_count": 44,
   "metadata": {},
   "outputs": [
    {
     "data": {
      "text/plain": [
       "'score = 0.28956'"
      ]
     },
     "execution_count": 44,
     "metadata": {},
     "output_type": "execute_result"
    }
   ],
   "source": [
    "from sklearn.metrics import mean_squared_log_error\n",
    "\n",
    "score = mean_squared_log_error(train_y,  predict_y)\n",
    "\"score = {:.5f}\".format(score)"
   ]
  },
  {
   "cell_type": "markdown",
   "metadata": {},
   "source": [
    "### Log 분석으로 진행되면 역으로 진행해보자\n",
    "$$ log(val + 1) $$\n",
    "\n",
    "$$ e^{predict} - 1 $$"
   ]
  },
  {
   "cell_type": "markdown",
   "metadata": {},
   "source": [
    "## Hyper Parameters\n",
    "\n",
    "### n_estimators\n",
    "나중에 검증할 때  숫자를 키워라!!!\n",
    "### max_depth\n",
    "Tuning을 먼저\n",
    "### max_features\n",
    "Tuning을 먼저"
   ]
  },
  {
   "cell_type": "markdown",
   "metadata": {},
   "source": [
    "### Coarse and FIne Search"
   ]
  },
  {
   "cell_type": "code",
   "execution_count": null,
   "metadata": {},
   "outputs": [],
   "source": []
  }
 ],
 "metadata": {
  "kernelspec": {
   "display_name": "Python 3",
   "language": "python",
   "name": "python3"
  },
  "language_info": {
   "codemirror_mode": {
    "name": "ipython",
    "version": 3
   },
   "file_extension": ".py",
   "mimetype": "text/x-python",
   "name": "python",
   "nbconvert_exporter": "python",
   "pygments_lexer": "ipython3",
   "version": "3.7.0"
  }
 },
 "nbformat": 4,
 "nbformat_minor": 2
}
